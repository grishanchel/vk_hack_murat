{
 "cells": [
  {
   "cell_type": "markdown",
   "id": "edcd6a96-e2f0-45ea-88d4-0cc11394ab07",
   "metadata": {},
   "source": [
    "## Предсказание пола/возраста по посещениям сайтов\n",
    "\n",
    "Для начала, подключим хранилище s3, содержащее исходные данные:"
   ]
  },
  {
   "cell_type": "markdown",
   "id": "b18ac963-f688-4263-99dc-5fc0ba5d4225",
   "metadata": {
    "tags": []
   },
   "source": [
    "Убедимся, что в директории `mnt` содержатся соответствующие таблицы:"
   ]
  },
  {
   "cell_type": "markdown",
   "source": [],
   "metadata": {
    "collapsed": false
   }
  },
  {
   "cell_type": "markdown",
   "id": "c173c190-dc10-4e36-b5dd-77197e312e08",
   "metadata": {},
   "source": [
    "Если по каким-то причинам директорию смонтировать не удалось, используйте код ниже, чтобы скачать данные к себе в локальное хранилище. В противном случае **пропустите следующую ячейку**."
   ]
  },
  {
   "cell_type": "markdown",
   "id": "91eb607a-d14d-4dda-9dae-6e44e4bc80bf",
   "metadata": {},
   "source": [
    "## Загружаем данные\n",
    "\n",
    "Используем Pandas для работы с таблицами. `geo_dataframe` содержит данные о геолокации - регионе и стране."
   ]
  },
  {
   "cell_type": "code",
   "execution_count": 1,
   "id": "807c3f20-c421-4a7b-9314-ec9112984948",
   "metadata": {
    "tags": []
   },
   "outputs": [
    {
     "data": {
      "text/plain": "      geo_id  region_id  country_id\n0          1        157          40\n1          2        161          40\n2          3        265          54\n3          4        122          54\n4          5         78          40\n...      ...        ...         ...\n5528    5529        246          54\n5529    5530         -1          63\n5530    5531        101          40\n5531    5532         21          68\n5532    5533         58          40\n\n[5533 rows x 3 columns]",
      "text/html": "<div>\n<style scoped>\n    .dataframe tbody tr th:only-of-type {\n        vertical-align: middle;\n    }\n\n    .dataframe tbody tr th {\n        vertical-align: top;\n    }\n\n    .dataframe thead th {\n        text-align: right;\n    }\n</style>\n<table border=\"1\" class=\"dataframe\">\n  <thead>\n    <tr style=\"text-align: right;\">\n      <th></th>\n      <th>geo_id</th>\n      <th>region_id</th>\n      <th>country_id</th>\n    </tr>\n  </thead>\n  <tbody>\n    <tr>\n      <th>0</th>\n      <td>1</td>\n      <td>157</td>\n      <td>40</td>\n    </tr>\n    <tr>\n      <th>1</th>\n      <td>2</td>\n      <td>161</td>\n      <td>40</td>\n    </tr>\n    <tr>\n      <th>2</th>\n      <td>3</td>\n      <td>265</td>\n      <td>54</td>\n    </tr>\n    <tr>\n      <th>3</th>\n      <td>4</td>\n      <td>122</td>\n      <td>54</td>\n    </tr>\n    <tr>\n      <th>4</th>\n      <td>5</td>\n      <td>78</td>\n      <td>40</td>\n    </tr>\n    <tr>\n      <th>...</th>\n      <td>...</td>\n      <td>...</td>\n      <td>...</td>\n    </tr>\n    <tr>\n      <th>5528</th>\n      <td>5529</td>\n      <td>246</td>\n      <td>54</td>\n    </tr>\n    <tr>\n      <th>5529</th>\n      <td>5530</td>\n      <td>-1</td>\n      <td>63</td>\n    </tr>\n    <tr>\n      <th>5530</th>\n      <td>5531</td>\n      <td>101</td>\n      <td>40</td>\n    </tr>\n    <tr>\n      <th>5531</th>\n      <td>5532</td>\n      <td>21</td>\n      <td>68</td>\n    </tr>\n    <tr>\n      <th>5532</th>\n      <td>5533</td>\n      <td>58</td>\n      <td>40</td>\n    </tr>\n  </tbody>\n</table>\n<p>5533 rows × 3 columns</p>\n</div>"
     },
     "execution_count": 1,
     "metadata": {},
     "output_type": "execute_result"
    }
   ],
   "source": [
    "import pandas as pd\n",
    "\n",
    "geo = pd.read_csv('geo_dataframe.csv')\n",
    "geo"
   ]
  },
  {
   "cell_type": "markdown",
   "id": "72b5ecce-e866-4e01-a2dd-1d26cd7452d9",
   "metadata": {},
   "source": [
    "Таблица `train_users` - это ваша обучающая выборка, содержащая пол и возраст пользователей. Аналогичная таблица для тестового датасета будет вам предоставлена за час до stop coding."
   ]
  },
  {
   "cell_type": "code",
   "execution_count": 2,
   "id": "d985e0cf-3d53-41d7-a004-2d081cb6573d",
   "metadata": {
    "tags": []
   },
   "outputs": [
    {
     "data": {
      "text/plain": "          user_id  gender  age\n0               2       1   61\n1               3       1   55\n2               6       0   46\n3              14       0   66\n4              17       0   53\n...           ...     ...  ...\n4999995  17588859       1   64\n4999996  17588860       0   69\n4999997  17588861       1   51\n4999998  17588864       0   30\n4999999  17588865       0   38\n\n[5000000 rows x 3 columns]",
      "text/html": "<div>\n<style scoped>\n    .dataframe tbody tr th:only-of-type {\n        vertical-align: middle;\n    }\n\n    .dataframe tbody tr th {\n        vertical-align: top;\n    }\n\n    .dataframe thead th {\n        text-align: right;\n    }\n</style>\n<table border=\"1\" class=\"dataframe\">\n  <thead>\n    <tr style=\"text-align: right;\">\n      <th></th>\n      <th>user_id</th>\n      <th>gender</th>\n      <th>age</th>\n    </tr>\n  </thead>\n  <tbody>\n    <tr>\n      <th>0</th>\n      <td>2</td>\n      <td>1</td>\n      <td>61</td>\n    </tr>\n    <tr>\n      <th>1</th>\n      <td>3</td>\n      <td>1</td>\n      <td>55</td>\n    </tr>\n    <tr>\n      <th>2</th>\n      <td>6</td>\n      <td>0</td>\n      <td>46</td>\n    </tr>\n    <tr>\n      <th>3</th>\n      <td>14</td>\n      <td>0</td>\n      <td>66</td>\n    </tr>\n    <tr>\n      <th>4</th>\n      <td>17</td>\n      <td>0</td>\n      <td>53</td>\n    </tr>\n    <tr>\n      <th>...</th>\n      <td>...</td>\n      <td>...</td>\n      <td>...</td>\n    </tr>\n    <tr>\n      <th>4999995</th>\n      <td>17588859</td>\n      <td>1</td>\n      <td>64</td>\n    </tr>\n    <tr>\n      <th>4999996</th>\n      <td>17588860</td>\n      <td>0</td>\n      <td>69</td>\n    </tr>\n    <tr>\n      <th>4999997</th>\n      <td>17588861</td>\n      <td>1</td>\n      <td>51</td>\n    </tr>\n    <tr>\n      <th>4999998</th>\n      <td>17588864</td>\n      <td>0</td>\n      <td>30</td>\n    </tr>\n    <tr>\n      <th>4999999</th>\n      <td>17588865</td>\n      <td>0</td>\n      <td>38</td>\n    </tr>\n  </tbody>\n</table>\n<p>5000000 rows × 3 columns</p>\n</div>"
     },
     "execution_count": 2,
     "metadata": {},
     "output_type": "execute_result"
    }
   ],
   "source": [
    "users = pd.read_csv('train_users.csv')\n",
    "users"
   ]
  },
  {
   "cell_type": "markdown",
   "id": "45812919-7ca9-4a01-8067-2a3d9ee2c96f",
   "metadata": {
    "tags": []
   },
   "source": [
    "Для примера - вот распределение пользователей по полу:"
   ]
  },
  {
   "cell_type": "code",
   "execution_count": 3,
   "id": "f2b0c5ce-cc19-463c-813b-7372f6b6a2df",
   "metadata": {
    "tags": []
   },
   "outputs": [
    {
     "data": {
      "text/plain": "<Axes: xlabel='gender'>"
     },
     "execution_count": 3,
     "metadata": {},
     "output_type": "execute_result"
    },
    {
     "data": {
      "text/plain": "<Figure size 640x480 with 1 Axes>",
      "image/png": "[encoded data removed]"
     },
     "metadata": {},
     "output_type": "display_data"
    }
   ],
   "source": [
    "import matplotlib.pyplot as plt\n",
    "users.groupby('gender').agg({ 'user_id' : len }).plot.bar()"
   ]
  },
  {
   "cell_type": "markdown",
   "id": "095a63d9-9ed2-40da-9206-26a9a6c71489",
   "metadata": {},
   "source": [
    "Основные данные о посещениях пользователями сайтов содержатся в табличке `requests`, представленной в формате parquet. Вы можете загрузить только одну часть таблички, или же всю таблицу, если она поместиться в памяти:"
   ]
  },
  {
   "cell_type": "code",
   "execution_count": 5,
   "id": "9e14f322-ec99-4c14-8e1a-ec373f767a9e",
   "metadata": {
    "tags": []
   },
   "outputs": [
    {
     "data": {
      "text/plain": "           timestamp  geo_id                              referer   user_id  \\\n0         1712169477    1224  https://www.domain_1118/path_107938   1628092   \n1         1711945301    2540      https://domain_3207/path_175610   1013613   \n2         1712154596    4402      https://domain_2194/path_172150   8274161   \n3         1711941903    3833      https://domain_2042/path_144480  17082498   \n4         1712088484    3866        https://domain_3191/path_9105  12787875   \n...              ...     ...                                  ...       ...   \n10000449  1712161101     702       https://domain_662/path_131980   2062442   \n10000450  1711940706    3515       https://domain_1784/path_45033   2375719   \n10000451  1712107755    3173       https://domain_1654/path_48166  11781572   \n10000452  1712107427    3833       https://domain_1654/path_10504  15183751   \n10000453  1712034201     964  https://www.domain_1605/path_166938   6247888   \n\n                                                 user_agent  \n0         Mozilla/5.0 (Linux; Android 10; K) AppleWebKit...  \n1         Mozilla/5.0 (Linux; Android 8.1.0; Redmi 5 Plu...  \n2         Mozilla/5.0 (Windows NT 10.0; Win64; x64) Appl...  \n3         Mozilla/5.0 (Windows NT 10.0; Win64; x64) Appl...  \n4         Mozilla/5.0 (Windows NT 10.0; Win64; x64) Appl...  \n...                                                     ...  \n10000449  Mozilla/5.0 (X11; Linux x86_64) AppleWebKit/53...  \n10000450  Mozilla/5.0 (Linux; Android 10; K) AppleWebKit...  \n10000451  Mozilla/5.0 (Linux; arm_64; Android 13; SM-A14...  \n10000452  Mozilla/5.0 (Linux; arm_64; Android 12; SM-M21...  \n10000453  Mozilla/5.0 (Linux; Android 10; K) AppleWebKit...  \n\n[10000454 rows x 5 columns]",
      "text/html": "<div>\n<style scoped>\n    .dataframe tbody tr th:only-of-type {\n        vertical-align: middle;\n    }\n\n    .dataframe tbody tr th {\n        vertical-align: top;\n    }\n\n    .dataframe thead th {\n        text-align: right;\n    }\n</style>\n<table border=\"1\" class=\"dataframe\">\n  <thead>\n    <tr style=\"text-align: right;\">\n      <th></th>\n      <th>timestamp</th>\n      <th>geo_id</th>\n      <th>referer</th>\n      <th>user_id</th>\n      <th>user_agent</th>\n    </tr>\n  </thead>\n  <tbody>\n    <tr>\n      <th>0</th>\n      <td>1712169477</td>\n      <td>1224</td>\n      <td>https://www.domain_1118/path_107938</td>\n      <td>1628092</td>\n      <td>Mozilla/5.0 (Linux; Android 10; K) AppleWebKit...</td>\n    </tr>\n    <tr>\n      <th>1</th>\n      <td>1711945301</td>\n      <td>2540</td>\n      <td>https://domain_3207/path_175610</td>\n      <td>1013613</td>\n      <td>Mozilla/5.0 (Linux; Android 8.1.0; Redmi 5 Plu...</td>\n    </tr>\n    <tr>\n      <th>2</th>\n      <td>1712154596</td>\n      <td>4402</td>\n      <td>https://domain_2194/path_172150</td>\n      <td>8274161</td>\n      <td>Mozilla/5.0 (Windows NT 10.0; Win64; x64) Appl...</td>\n    </tr>\n    <tr>\n      <th>3</th>\n      <td>1711941903</td>\n      <td>3833</td>\n      <td>https://domain_2042/path_144480</td>\n      <td>17082498</td>\n      <td>Mozilla/5.0 (Windows NT 10.0; Win64; x64) Appl...</td>\n    </tr>\n    <tr>\n      <th>4</th>\n      <td>1712088484</td>\n      <td>3866</td>\n      <td>https://domain_3191/path_9105</td>\n      <td>12787875</td>\n      <td>Mozilla/5.0 (Windows NT 10.0; Win64; x64) Appl...</td>\n    </tr>\n    <tr>\n      <th>...</th>\n      <td>...</td>\n      <td>...</td>\n      <td>...</td>\n      <td>...</td>\n      <td>...</td>\n    </tr>\n    <tr>\n      <th>10000449</th>\n      <td>1712161101</td>\n      <td>702</td>\n      <td>https://domain_662/path_131980</td>\n      <td>2062442</td>\n      <td>Mozilla/5.0 (X11; Linux x86_64) AppleWebKit/53...</td>\n    </tr>\n    <tr>\n      <th>10000450</th>\n      <td>1711940706</td>\n      <td>3515</td>\n      <td>https://domain_1784/path_45033</td>\n      <td>2375719</td>\n      <td>Mozilla/5.0 (Linux; Android 10; K) AppleWebKit...</td>\n    </tr>\n    <tr>\n      <th>10000451</th>\n      <td>1712107755</td>\n      <td>3173</td>\n      <td>https://domain_1654/path_48166</td>\n      <td>11781572</td>\n      <td>Mozilla/5.0 (Linux; arm_64; Android 13; SM-A14...</td>\n    </tr>\n    <tr>\n      <th>10000452</th>\n      <td>1712107427</td>\n      <td>3833</td>\n      <td>https://domain_1654/path_10504</td>\n      <td>15183751</td>\n      <td>Mozilla/5.0 (Linux; arm_64; Android 12; SM-M21...</td>\n    </tr>\n    <tr>\n      <th>10000453</th>\n      <td>1712034201</td>\n      <td>964</td>\n      <td>https://www.domain_1605/path_166938</td>\n      <td>6247888</td>\n      <td>Mozilla/5.0 (Linux; Android 10; K) AppleWebKit...</td>\n    </tr>\n  </tbody>\n</table>\n<p>10000454 rows × 5 columns</p>\n</div>"
     },
     "execution_count": 5,
     "metadata": {},
     "output_type": "execute_result"
    }
   ],
   "source": [
    "name = 'part_0'\n",
    "req = pd.read_parquet('req1.parquet')\n",
    "req"
   ]
  },
  {
   "cell_type": "code",
   "execution_count": 28,
   "outputs": [
    {
     "data": {
      "text/plain": "         timestamp  geo_id                             referer   user_id  \\\n0       1711945301    2540     https://domain_3207/path_175610   1013613   \n1       1711941903    3833     https://domain_2042/path_144480  17082498   \n2       1712088484    3866       https://domain_3191/path_9105  12787875   \n3       1711918808    1840      https://domain_551/path_175610   8871292   \n4       1712117806    2293      https://domain_662/path_120157  11372673   \n...            ...     ...                                 ...       ...   \n499995  1712139644    3948  https://www.domain_294/path_146930  12714094   \n499996  1712130188    2540     https://domain_2238/path_142190  11110004   \n499997  1712144776     624     https://domain_1654/path_121641   5916185   \n499998  1711946661    3173     https://domain_2833/path_138343    921657   \n499999  1711982760    2386     https://domain_3142/path_101963    650325   \n\n                                               user_agent  gender   age  \\\n0       Mozilla/5.0 (Linux; Android 8.1.0; Redmi 5 Plu...     1.0  75.0   \n1       Mozilla/5.0 (Windows NT 10.0; Win64; x64) Appl...     0.0  72.0   \n2       Mozilla/5.0 (Windows NT 10.0; Win64; x64) Appl...     1.0  73.0   \n3       Mozilla/5.0 (Linux; Android 10; K) AppleWebKit...     0.0  18.0   \n4       Mozilla/5.0 (Windows NT 10.0; Win64; x64) Appl...     1.0  41.0   \n...                                                   ...     ...   ...   \n499995  Mozilla/5.0 (Windows NT 10.0; Win64; x64) Appl...     1.0  69.0   \n499996  Mozilla/5.0 (Windows NT 10.0; Win64; x64) Appl...     1.0  72.0   \n499997  Mozilla/5.0 (Linux; arm_64; Android 10; Redmi ...     1.0  74.0   \n499998  Mozilla/5.0 (Linux; Android 10; K) AppleWebKit...     1.0  41.0   \n499999  Mozilla/5.0 (Windows NT 10.0; Win64; x64) Appl...     0.0  19.0   \n\n        region_id  country_id  \n0             135         199  \n1              78          40  \n2              -1          79  \n3             192          40  \n4             184          40  \n...           ...         ...  \n499995        189          40  \n499996        135         199  \n499997         49          40  \n499998        184          40  \n499999         -1          40  \n\n[500000 rows x 9 columns]",
      "text/html": "<div>\n<style scoped>\n    .dataframe tbody tr th:only-of-type {\n        vertical-align: middle;\n    }\n\n    .dataframe tbody tr th {\n        vertical-align: top;\n    }\n\n    .dataframe thead th {\n        text-align: right;\n    }\n</style>\n<table border=\"1\" class=\"dataframe\">\n  <thead>\n    <tr style=\"text-align: right;\">\n      <th></th>\n      <th>timestamp</th>\n      <th>geo_id</th>\n      <th>referer</th>\n      <th>user_id</th>\n      <th>user_agent</th>\n      <th>gender</th>\n      <th>age</th>\n      <th>region_id</th>\n      <th>country_id</th>\n    </tr>\n  </thead>\n  <tbody>\n    <tr>\n      <th>0</th>\n      <td>1711945301</td>\n      <td>2540</td>\n      <td>https://domain_3207/path_175610</td>\n      <td>1013613</td>\n      <td>Mozilla/5.0 (Linux; Android 8.1.0; Redmi 5 Plu...</td>\n      <td>1.0</td>\n      <td>75.0</td>\n      <td>135</td>\n      <td>199</td>\n    </tr>\n    <tr>\n      <th>1</th>\n      <td>1711941903</td>\n      <td>3833</td>\n      <td>https://domain_2042/path_144480</td>\n      <td>17082498</td>\n      <td>Mozilla/5.0 (Windows NT 10.0; Win64; x64) Appl...</td>\n      <td>0.0</td>\n      <td>72.0</td>\n      <td>78</td>\n      <td>40</td>\n    </tr>\n    <tr>\n      <th>2</th>\n      <td>1712088484</td>\n      <td>3866</td>\n      <td>https://domain_3191/path_9105</td>\n      <td>12787875</td>\n      <td>Mozilla/5.0 (Windows NT 10.0; Win64; x64) Appl...</td>\n      <td>1.0</td>\n      <td>73.0</td>\n      <td>-1</td>\n      <td>79</td>\n    </tr>\n    <tr>\n      <th>3</th>\n      <td>1711918808</td>\n      <td>1840</td>\n      <td>https://domain_551/path_175610</td>\n      <td>8871292</td>\n      <td>Mozilla/5.0 (Linux; Android 10; K) AppleWebKit...</td>\n      <td>0.0</td>\n      <td>18.0</td>\n      <td>192</td>\n      <td>40</td>\n    </tr>\n    <tr>\n      <th>4</th>\n      <td>1712117806</td>\n      <td>2293</td>\n      <td>https://domain_662/path_120157</td>\n      <td>11372673</td>\n      <td>Mozilla/5.0 (Windows NT 10.0; Win64; x64) Appl...</td>\n      <td>1.0</td>\n      <td>41.0</td>\n      <td>184</td>\n      <td>40</td>\n    </tr>\n    <tr>\n      <th>...</th>\n      <td>...</td>\n      <td>...</td>\n      <td>...</td>\n      <td>...</td>\n      <td>...</td>\n      <td>...</td>\n      <td>...</td>\n      <td>...</td>\n      <td>...</td>\n    </tr>\n    <tr>\n      <th>499995</th>\n      <td>1712139644</td>\n      <td>3948</td>\n      <td>https://www.domain_294/path_146930</td>\n      <td>12714094</td>\n      <td>Mozilla/5.0 (Windows NT 10.0; Win64; x64) Appl...</td>\n      <td>1.0</td>\n      <td>69.0</td>\n      <td>189</td>\n      <td>40</td>\n    </tr>\n    <tr>\n      <th>499996</th>\n      <td>1712130188</td>\n      <td>2540</td>\n      <td>https://domain_2238/path_142190</td>\n      <td>11110004</td>\n      <td>Mozilla/5.0 (Windows NT 10.0; Win64; x64) Appl...</td>\n      <td>1.0</td>\n      <td>72.0</td>\n      <td>135</td>\n      <td>199</td>\n    </tr>\n    <tr>\n      <th>499997</th>\n      <td>1712144776</td>\n      <td>624</td>\n      <td>https://domain_1654/path_121641</td>\n      <td>5916185</td>\n      <td>Mozilla/5.0 (Linux; arm_64; Android 10; Redmi ...</td>\n      <td>1.0</td>\n      <td>74.0</td>\n      <td>49</td>\n      <td>40</td>\n    </tr>\n    <tr>\n      <th>499998</th>\n      <td>1711946661</td>\n      <td>3173</td>\n      <td>https://domain_2833/path_138343</td>\n      <td>921657</td>\n      <td>Mozilla/5.0 (Linux; Android 10; K) AppleWebKit...</td>\n      <td>1.0</td>\n      <td>41.0</td>\n      <td>184</td>\n      <td>40</td>\n    </tr>\n    <tr>\n      <th>499999</th>\n      <td>1711982760</td>\n      <td>2386</td>\n      <td>https://domain_3142/path_101963</td>\n      <td>650325</td>\n      <td>Mozilla/5.0 (Windows NT 10.0; Win64; x64) Appl...</td>\n      <td>0.0</td>\n      <td>19.0</td>\n      <td>-1</td>\n      <td>40</td>\n    </tr>\n  </tbody>\n</table>\n<p>500000 rows × 9 columns</p>\n</div>"
     },
     "execution_count": 28,
     "metadata": {},
     "output_type": "execute_result"
    }
   ],
   "source": [
    "merged = pd.merge(req, users, on='user_id', how='left')\n",
    "merged = merged[pd.notna(merged.gender) | pd.notna(merged.age)]\n",
    "merged = pd.merge(merged, geo, on='geo_id', how='left')\n",
    "merged = merged.head(500000)\n",
    "merged"
   ],
   "metadata": {
    "collapsed": false
   }
  },
  {
   "cell_type": "markdown",
   "id": "9e5882f5-ea2b-489d-8e71-a68e15038ae7",
   "metadata": {},
   "source": [
    "## Дерзайте!\n",
    "\n",
    "Вам необходимо построить предсказательную модель для прогнозирования пола и возраста пользователей по их посещениям. Таблица с тестовыми пользователями будет предоставлена вам за час до stop coding.\n",
    "\n",
    "ВАЖНО:\n",
    "* Таблицу с тестовыми данными нельзя использовать для обучения модели. Если жюри увидит, что вы использовали табличку с тестовыми данными - точность модели будет оцениваться в 0 баллов.\n",
    "* В ходе выступления необходимо продемонстрировать точность модели на тестовых данных."
   ]
  },
  {
   "cell_type": "code",
   "execution_count": 29,
   "outputs": [],
   "source": [
    "from tqdm.auto import tqdm\n",
    "import ua_parser.user_agent_parser\n",
    "\n",
    "def parse_user_agent(user_agent_string):\n",
    "    parsed_ua = ua_parser.user_agent_parser.Parse(user_agent_string)\n",
    "    return parsed_ua['user_agent']['family'], parsed_ua['os']['family'], parsed_ua['device']['family']\n"
   ],
   "metadata": {
    "collapsed": false
   }
  },
  {
   "cell_type": "code",
   "execution_count": 67,
   "outputs": [
    {
     "data": {
      "text/plain": "0it [00:00, ?it/s]",
      "application/vnd.jupyter.widget-view+json": {
       "version_major": 2,
       "version_minor": 0,
       "model_id": "843f9dbbfa0b47ef910afa485969e78e"
      }
     },
     "metadata": {},
     "output_type": "display_data"
    }
   ],
   "source": [
    "domains = []\n",
    "paths = []\n",
    "browsers = []\n",
    "oses = []\n",
    "devices = []\n",
    "\n",
    "for i, row in tqdm(merged.iterrows()):\n",
    "    r = row[\"referer\"]\n",
    "    if r:\n",
    "        domains.append(r[r.index(\"domain\") + 7: r.rfind(\"/\")])\n",
    "        paths.append(r[r.index(\"path\") + 5:])\n",
    "    else:\n",
    "        domains.append('')\n",
    "        paths.append('')\n",
    "\n",
    "    browser, os, device = parse_user_agent(row[\"user_agent\"])\n",
    "    browsers.append(browser)\n",
    "    oses.append(os)\n",
    "    devices.append(device)\n"
   ],
   "metadata": {
    "collapsed": false
   }
  },
  {
   "cell_type": "code",
   "execution_count": 68,
   "outputs": [
    {
     "data": {
      "text/plain": "         timestamp  geo_id                             referer   user_id  \\\n0       1711945301    2540     https://domain_3207/path_175610   1013613   \n1       1711941903    3833     https://domain_2042/path_144480  17082498   \n2       1712088484    3866       https://domain_3191/path_9105  12787875   \n3       1711918808    1840      https://domain_551/path_175610   8871292   \n4       1712117806    2293      https://domain_662/path_120157  11372673   \n...            ...     ...                                 ...       ...   \n499995  1712139644    3948  https://www.domain_294/path_146930  12714094   \n499996  1712130188    2540     https://domain_2238/path_142190  11110004   \n499997  1712144776     624     https://domain_1654/path_121641   5916185   \n499998  1711946661    3173     https://domain_2833/path_138343    921657   \n499999  1711982760    2386     https://domain_3142/path_101963    650325   \n\n                                               user_agent domain    path  \\\n0       Mozilla/5.0 (Linux; Android 8.1.0; Redmi 5 Plu...   3207  175610   \n1       Mozilla/5.0 (Windows NT 10.0; Win64; x64) Appl...   2042  144480   \n2       Mozilla/5.0 (Windows NT 10.0; Win64; x64) Appl...   3191    9105   \n3       Mozilla/5.0 (Linux; Android 10; K) AppleWebKit...    551  175610   \n4       Mozilla/5.0 (Windows NT 10.0; Win64; x64) Appl...    662  120157   \n...                                                   ...    ...     ...   \n499995  Mozilla/5.0 (Windows NT 10.0; Win64; x64) Appl...    294  146930   \n499996  Mozilla/5.0 (Windows NT 10.0; Win64; x64) Appl...   2238  142190   \n499997  Mozilla/5.0 (Linux; arm_64; Android 10; Redmi ...   1654  121641   \n499998  Mozilla/5.0 (Linux; Android 10; K) AppleWebKit...   2833  138343   \n499999  Mozilla/5.0 (Windows NT 10.0; Win64; x64) Appl...   3142  101963   \n\n              browser       os              devices  gender  age  \n0        Opera Mobile  Android  XiaoMi Redmi 5 Plus       1   75  \n1              Chrome  Windows                Other       0   72  \n2              Chrome  Windows                Other       1   73  \n3       Chrome Mobile  Android                    K       0   18  \n4              Chrome  Windows                Other       1   41  \n...               ...      ...                  ...     ...  ...  \n499995          Opera  Windows                Other       1   69  \n499996         Chrome  Windows                Other       1   72  \n499997         Chrome  Android  XiaoMi Redmi Note 7       1   74  \n499998  Chrome Mobile  Android                    K       1   41  \n499999           Edge  Windows                Other       0   19  \n\n[500000 rows x 12 columns]",
      "text/html": "<div>\n<style scoped>\n    .dataframe tbody tr th:only-of-type {\n        vertical-align: middle;\n    }\n\n    .dataframe tbody tr th {\n        vertical-align: top;\n    }\n\n    .dataframe thead th {\n        text-align: right;\n    }\n</style>\n<table border=\"1\" class=\"dataframe\">\n  <thead>\n    <tr style=\"text-align: right;\">\n      <th></th>\n      <th>timestamp</th>\n      <th>geo_id</th>\n      <th>referer</th>\n      <th>user_id</th>\n      <th>user_agent</th>\n      <th>domain</th>\n      <th>path</th>\n      <th>browser</th>\n      <th>os</th>\n      <th>devices</th>\n      <th>gender</th>\n      <th>age</th>\n    </tr>\n  </thead>\n  <tbody>\n    <tr>\n      <th>0</th>\n      <td>1711945301</td>\n      <td>2540</td>\n      <td>https://domain_3207/path_175610</td>\n      <td>1013613</td>\n      <td>Mozilla/5.0 (Linux; Android 8.1.0; Redmi 5 Plu...</td>\n      <td>3207</td>\n      <td>175610</td>\n      <td>Opera Mobile</td>\n      <td>Android</td>\n      <td>XiaoMi Redmi 5 Plus</td>\n      <td>1</td>\n      <td>75</td>\n    </tr>\n    <tr>\n      <th>1</th>\n      <td>1711941903</td>\n      <td>3833</td>\n      <td>https://domain_2042/path_144480</td>\n      <td>17082498</td>\n      <td>Mozilla/5.0 (Windows NT 10.0; Win64; x64) Appl...</td>\n      <td>2042</td>\n      <td>144480</td>\n      <td>Chrome</td>\n      <td>Windows</td>\n      <td>Other</td>\n      <td>0</td>\n      <td>72</td>\n    </tr>\n    <tr>\n      <th>2</th>\n      <td>1712088484</td>\n      <td>3866</td>\n      <td>https://domain_3191/path_9105</td>\n      <td>12787875</td>\n      <td>Mozilla/5.0 (Windows NT 10.0; Win64; x64) Appl...</td>\n      <td>3191</td>\n      <td>9105</td>\n      <td>Chrome</td>\n      <td>Windows</td>\n      <td>Other</td>\n      <td>1</td>\n      <td>73</td>\n    </tr>\n    <tr>\n      <th>3</th>\n      <td>1711918808</td>\n      <td>1840</td>\n      <td>https://domain_551/path_175610</td>\n      <td>8871292</td>\n      <td>Mozilla/5.0 (Linux; Android 10; K) AppleWebKit...</td>\n      <td>551</td>\n      <td>175610</td>\n      <td>Chrome Mobile</td>\n      <td>Android</td>\n      <td>K</td>\n      <td>0</td>\n      <td>18</td>\n    </tr>\n    <tr>\n      <th>4</th>\n      <td>1712117806</td>\n      <td>2293</td>\n      <td>https://domain_662/path_120157</td>\n      <td>11372673</td>\n      <td>Mozilla/5.0 (Windows NT 10.0; Win64; x64) Appl...</td>\n      <td>662</td>\n      <td>120157</td>\n      <td>Chrome</td>\n      <td>Windows</td>\n      <td>Other</td>\n      <td>1</td>\n      <td>41</td>\n    </tr>\n    <tr>\n      <th>...</th>\n      <td>...</td>\n      <td>...</td>\n      <td>...</td>\n      <td>...</td>\n      <td>...</td>\n      <td>...</td>\n      <td>...</td>\n      <td>...</td>\n      <td>...</td>\n      <td>...</td>\n      <td>...</td>\n      <td>...</td>\n    </tr>\n    <tr>\n      <th>499995</th>\n      <td>1712139644</td>\n      <td>3948</td>\n      <td>https://www.domain_294/path_146930</td>\n      <td>12714094</td>\n      <td>Mozilla/5.0 (Windows NT 10.0; Win64; x64) Appl...</td>\n      <td>294</td>\n      <td>146930</td>\n      <td>Opera</td>\n      <td>Windows</td>\n      <td>Other</td>\n      <td>1</td>\n      <td>69</td>\n    </tr>\n    <tr>\n      <th>499996</th>\n      <td>1712130188</td>\n      <td>2540</td>\n      <td>https://domain_2238/path_142190</td>\n      <td>11110004</td>\n      <td>Mozilla/5.0 (Windows NT 10.0; Win64; x64) Appl...</td>\n      <td>2238</td>\n      <td>142190</td>\n      <td>Chrome</td>\n      <td>Windows</td>\n      <td>Other</td>\n      <td>1</td>\n      <td>72</td>\n    </tr>\n    <tr>\n      <th>499997</th>\n      <td>1712144776</td>\n      <td>624</td>\n      <td>https://domain_1654/path_121641</td>\n      <td>5916185</td>\n      <td>Mozilla/5.0 (Linux; arm_64; Android 10; Redmi ...</td>\n      <td>1654</td>\n      <td>121641</td>\n      <td>Chrome</td>\n      <td>Android</td>\n      <td>XiaoMi Redmi Note 7</td>\n      <td>1</td>\n      <td>74</td>\n    </tr>\n    <tr>\n      <th>499998</th>\n      <td>1711946661</td>\n      <td>3173</td>\n      <td>https://domain_2833/path_138343</td>\n      <td>921657</td>\n      <td>Mozilla/5.0 (Linux; Android 10; K) AppleWebKit...</td>\n      <td>2833</td>\n      <td>138343</td>\n      <td>Chrome Mobile</td>\n      <td>Android</td>\n      <td>K</td>\n      <td>1</td>\n      <td>41</td>\n    </tr>\n    <tr>\n      <th>499999</th>\n      <td>1711982760</td>\n      <td>2386</td>\n      <td>https://domain_3142/path_101963</td>\n      <td>650325</td>\n      <td>Mozilla/5.0 (Windows NT 10.0; Win64; x64) Appl...</td>\n      <td>3142</td>\n      <td>101963</td>\n      <td>Edge</td>\n      <td>Windows</td>\n      <td>Other</td>\n      <td>0</td>\n      <td>19</td>\n    </tr>\n  </tbody>\n</table>\n<p>500000 rows × 12 columns</p>\n</div>"
     },
     "execution_count": 68,
     "metadata": {},
     "output_type": "execute_result"
    }
   ],
   "source": [
    "merged['domain'] = domains\n",
    "merged['path'] = paths\n",
    "merged['browser'] = browsers\n",
    "merged['os'] = oses\n",
    "merged['devices'] = devices\n",
    "merged"
   ],
   "metadata": {
    "collapsed": false
   }
  },
  {
   "cell_type": "code",
   "execution_count": 75,
   "outputs": [
    {
     "data": {
      "text/plain": "         timestamp  geo_id                             referer   user_id  \\\n0       1711945301    2540     https://domain_3207/path_175610   1013613   \n1       1711941903    3833     https://domain_2042/path_144480  17082498   \n2       1712088484    3866       https://domain_3191/path_9105  12787875   \n3       1711918808    1840      https://domain_551/path_175610   8871292   \n4       1712117806    2293      https://domain_662/path_120157  11372673   \n...            ...     ...                                 ...       ...   \n499995  1712139644    3948  https://www.domain_294/path_146930  12714094   \n499996  1712130188    2540     https://domain_2238/path_142190  11110004   \n499997  1712144776     624     https://domain_1654/path_121641   5916185   \n499998  1711946661    3173     https://domain_2833/path_138343    921657   \n499999  1711982760    2386     https://domain_3142/path_101963    650325   \n\n                                               user_agent domain    path  \\\n0       Mozilla/5.0 (Linux; Android 8.1.0; Redmi 5 Plu...   3207  175610   \n1       Mozilla/5.0 (Windows NT 10.0; Win64; x64) Appl...   2042  144480   \n2       Mozilla/5.0 (Windows NT 10.0; Win64; x64) Appl...   3191    9105   \n3       Mozilla/5.0 (Linux; Android 10; K) AppleWebKit...    551  175610   \n4       Mozilla/5.0 (Windows NT 10.0; Win64; x64) Appl...    662  120157   \n...                                                   ...    ...     ...   \n499995  Mozilla/5.0 (Windows NT 10.0; Win64; x64) Appl...    294  146930   \n499996  Mozilla/5.0 (Windows NT 10.0; Win64; x64) Appl...   2238  142190   \n499997  Mozilla/5.0 (Linux; arm_64; Android 10; Redmi ...   1654  121641   \n499998  Mozilla/5.0 (Linux; Android 10; K) AppleWebKit...   2833  138343   \n499999  Mozilla/5.0 (Windows NT 10.0; Win64; x64) Appl...   3142  101963   \n\n              browser       os              devices  gender  age  region_id  \\\n0        Opera Mobile  Android  XiaoMi Redmi 5 Plus       1   75        135   \n1              Chrome  Windows                Other       0   72         78   \n2              Chrome  Windows                Other       1   73         -1   \n3       Chrome Mobile  Android                    K       0   18        192   \n4              Chrome  Windows                Other       1   41        184   \n...               ...      ...                  ...     ...  ...        ...   \n499995          Opera  Windows                Other       1   69        189   \n499996         Chrome  Windows                Other       1   72        135   \n499997         Chrome  Android  XiaoMi Redmi Note 7       1   74         49   \n499998  Chrome Mobile  Android                    K       1   41        184   \n499999           Edge  Windows                Other       0   19         -1   \n\n        country_id  \n0              199  \n1               40  \n2               79  \n3               40  \n4               40  \n...            ...  \n499995          40  \n499996         199  \n499997          40  \n499998          40  \n499999          40  \n\n[500000 rows x 14 columns]",
      "text/html": "<div>\n<style scoped>\n    .dataframe tbody tr th:only-of-type {\n        vertical-align: middle;\n    }\n\n    .dataframe tbody tr th {\n        vertical-align: top;\n    }\n\n    .dataframe thead th {\n        text-align: right;\n    }\n</style>\n<table border=\"1\" class=\"dataframe\">\n  <thead>\n    <tr style=\"text-align: right;\">\n      <th></th>\n      <th>timestamp</th>\n      <th>geo_id</th>\n      <th>referer</th>\n      <th>user_id</th>\n      <th>user_agent</th>\n      <th>domain</th>\n      <th>path</th>\n      <th>browser</th>\n      <th>os</th>\n      <th>devices</th>\n      <th>gender</th>\n      <th>age</th>\n      <th>region_id</th>\n      <th>country_id</th>\n    </tr>\n  </thead>\n  <tbody>\n    <tr>\n      <th>0</th>\n      <td>1711945301</td>\n      <td>2540</td>\n      <td>https://domain_3207/path_175610</td>\n      <td>1013613</td>\n      <td>Mozilla/5.0 (Linux; Android 8.1.0; Redmi 5 Plu...</td>\n      <td>3207</td>\n      <td>175610</td>\n      <td>Opera Mobile</td>\n      <td>Android</td>\n      <td>XiaoMi Redmi 5 Plus</td>\n      <td>1</td>\n      <td>75</td>\n      <td>135</td>\n      <td>199</td>\n    </tr>\n    <tr>\n      <th>1</th>\n      <td>1711941903</td>\n      <td>3833</td>\n      <td>https://domain_2042/path_144480</td>\n      <td>17082498</td>\n      <td>Mozilla/5.0 (Windows NT 10.0; Win64; x64) Appl...</td>\n      <td>2042</td>\n      <td>144480</td>\n      <td>Chrome</td>\n      <td>Windows</td>\n      <td>Other</td>\n      <td>0</td>\n      <td>72</td>\n      <td>78</td>\n      <td>40</td>\n    </tr>\n    <tr>\n      <th>2</th>\n      <td>1712088484</td>\n      <td>3866</td>\n      <td>https://domain_3191/path_9105</td>\n      <td>12787875</td>\n      <td>Mozilla/5.0 (Windows NT 10.0; Win64; x64) Appl...</td>\n      <td>3191</td>\n      <td>9105</td>\n      <td>Chrome</td>\n      <td>Windows</td>\n      <td>Other</td>\n      <td>1</td>\n      <td>73</td>\n      <td>-1</td>\n      <td>79</td>\n    </tr>\n    <tr>\n      <th>3</th>\n      <td>1711918808</td>\n      <td>1840</td>\n      <td>https://domain_551/path_175610</td>\n      <td>8871292</td>\n      <td>Mozilla/5.0 (Linux; Android 10; K) AppleWebKit...</td>\n      <td>551</td>\n      <td>175610</td>\n      <td>Chrome Mobile</td>\n      <td>Android</td>\n      <td>K</td>\n      <td>0</td>\n      <td>18</td>\n      <td>192</td>\n      <td>40</td>\n    </tr>\n    <tr>\n      <th>4</th>\n      <td>1712117806</td>\n      <td>2293</td>\n      <td>https://domain_662/path_120157</td>\n      <td>11372673</td>\n      <td>Mozilla/5.0 (Windows NT 10.0; Win64; x64) Appl...</td>\n      <td>662</td>\n      <td>120157</td>\n      <td>Chrome</td>\n      <td>Windows</td>\n      <td>Other</td>\n      <td>1</td>\n      <td>41</td>\n      <td>184</td>\n      <td>40</td>\n    </tr>\n    <tr>\n      <th>...</th>\n      <td>...</td>\n      <td>...</td>\n      <td>...</td>\n      <td>...</td>\n      <td>...</td>\n      <td>...</td>\n      <td>...</td>\n      <td>...</td>\n      <td>...</td>\n      <td>...</td>\n      <td>...</td>\n      <td>...</td>\n      <td>...</td>\n      <td>...</td>\n    </tr>\n    <tr>\n      <th>499995</th>\n      <td>1712139644</td>\n      <td>3948</td>\n      <td>https://www.domain_294/path_146930</td>\n      <td>12714094</td>\n      <td>Mozilla/5.0 (Windows NT 10.0; Win64; x64) Appl...</td>\n      <td>294</td>\n      <td>146930</td>\n      <td>Opera</td>\n      <td>Windows</td>\n      <td>Other</td>\n      <td>1</td>\n      <td>69</td>\n      <td>189</td>\n      <td>40</td>\n    </tr>\n    <tr>\n      <th>499996</th>\n      <td>1712130188</td>\n      <td>2540</td>\n      <td>https://domain_2238/path_142190</td>\n      <td>11110004</td>\n      <td>Mozilla/5.0 (Windows NT 10.0; Win64; x64) Appl...</td>\n      <td>2238</td>\n      <td>142190</td>\n      <td>Chrome</td>\n      <td>Windows</td>\n      <td>Other</td>\n      <td>1</td>\n      <td>72</td>\n      <td>135</td>\n      <td>199</td>\n    </tr>\n    <tr>\n      <th>499997</th>\n      <td>1712144776</td>\n      <td>624</td>\n      <td>https://domain_1654/path_121641</td>\n      <td>5916185</td>\n      <td>Mozilla/5.0 (Linux; arm_64; Android 10; Redmi ...</td>\n      <td>1654</td>\n      <td>121641</td>\n      <td>Chrome</td>\n      <td>Android</td>\n      <td>XiaoMi Redmi Note 7</td>\n      <td>1</td>\n      <td>74</td>\n      <td>49</td>\n      <td>40</td>\n    </tr>\n    <tr>\n      <th>499998</th>\n      <td>1711946661</td>\n      <td>3173</td>\n      <td>https://domain_2833/path_138343</td>\n      <td>921657</td>\n      <td>Mozilla/5.0 (Linux; Android 10; K) AppleWebKit...</td>\n      <td>2833</td>\n      <td>138343</td>\n      <td>Chrome Mobile</td>\n      <td>Android</td>\n      <td>K</td>\n      <td>1</td>\n      <td>41</td>\n      <td>184</td>\n      <td>40</td>\n    </tr>\n    <tr>\n      <th>499999</th>\n      <td>1711982760</td>\n      <td>2386</td>\n      <td>https://domain_3142/path_101963</td>\n      <td>650325</td>\n      <td>Mozilla/5.0 (Windows NT 10.0; Win64; x64) Appl...</td>\n      <td>3142</td>\n      <td>101963</td>\n      <td>Edge</td>\n      <td>Windows</td>\n      <td>Other</td>\n      <td>0</td>\n      <td>19</td>\n      <td>-1</td>\n      <td>40</td>\n    </tr>\n  </tbody>\n</table>\n<p>500000 rows × 14 columns</p>\n</div>"
     },
     "execution_count": 75,
     "metadata": {},
     "output_type": "execute_result"
    }
   ],
   "source": [
    "merged_final = pd.merge(merged, users, on='user_id', how='left')\n",
    "merged_final = merged[pd.notna(merged['gender']) | pd.notna(merged['age'])]\n",
    "merged_final = pd.merge(merged, geo, on='geo_id', how='left')\n",
    "merged_final"
   ],
   "metadata": {
    "collapsed": false
   }
  },
  {
   "cell_type": "code",
   "execution_count": 87,
   "outputs": [
    {
     "data": {
      "text/plain": "         timestamp   user_id  \\\n0       1711945301   1013613   \n1       1711941903  17082498   \n2       1712088484  12787875   \n3       1711918808   8871292   \n4       1712117806  11372673   \n...            ...       ...   \n499995  1712139644  12714094   \n499996  1712130188  11110004   \n499997  1712144776   5916185   \n499998  1711946661    921657   \n499999  1711982760    650325   \n\n                                               user_agent domain    path  \\\n0       Mozilla/5.0 (Linux; Android 8.1.0; Redmi 5 Plu...   3207  175610   \n1       Mozilla/5.0 (Windows NT 10.0; Win64; x64) Appl...   2042  144480   \n2       Mozilla/5.0 (Windows NT 10.0; Win64; x64) Appl...   3191    9105   \n3       Mozilla/5.0 (Linux; Android 10; K) AppleWebKit...    551  175610   \n4       Mozilla/5.0 (Windows NT 10.0; Win64; x64) Appl...    662  120157   \n...                                                   ...    ...     ...   \n499995  Mozilla/5.0 (Windows NT 10.0; Win64; x64) Appl...    294  146930   \n499996  Mozilla/5.0 (Windows NT 10.0; Win64; x64) Appl...   2238  142190   \n499997  Mozilla/5.0 (Linux; arm_64; Android 10; Redmi ...   1654  121641   \n499998  Mozilla/5.0 (Linux; Android 10; K) AppleWebKit...   2833  138343   \n499999  Mozilla/5.0 (Windows NT 10.0; Win64; x64) Appl...   3142  101963   \n\n              browser       os              devices  gender  age  region_id  \\\n0        Opera Mobile  Android  XiaoMi Redmi 5 Plus       1   75        135   \n1              Chrome  Windows                Other       0   72         78   \n2              Chrome  Windows                Other       1   73         -1   \n3       Chrome Mobile  Android                    K       0   18        192   \n4              Chrome  Windows                Other       1   41        184   \n...               ...      ...                  ...     ...  ...        ...   \n499995          Opera  Windows                Other       1   69        189   \n499996         Chrome  Windows                Other       1   72        135   \n499997         Chrome  Android  XiaoMi Redmi Note 7       1   74         49   \n499998  Chrome Mobile  Android                    K       1   41        184   \n499999           Edge  Windows                Other       0   19         -1   \n\n        country_id  \n0              199  \n1               40  \n2               79  \n3               40  \n4               40  \n...            ...  \n499995          40  \n499996         199  \n499997          40  \n499998          40  \n499999          40  \n\n[500000 rows x 12 columns]",
      "text/html": "<div>\n<style scoped>\n    .dataframe tbody tr th:only-of-type {\n        vertical-align: middle;\n    }\n\n    .dataframe tbody tr th {\n        vertical-align: top;\n    }\n\n    .dataframe thead th {\n        text-align: right;\n    }\n</style>\n<table border=\"1\" class=\"dataframe\">\n  <thead>\n    <tr style=\"text-align: right;\">\n      <th></th>\n      <th>timestamp</th>\n      <th>user_id</th>\n      <th>user_agent</th>\n      <th>domain</th>\n      <th>path</th>\n      <th>browser</th>\n      <th>os</th>\n      <th>devices</th>\n      <th>gender</th>\n      <th>age</th>\n      <th>region_id</th>\n      <th>country_id</th>\n    </tr>\n  </thead>\n  <tbody>\n    <tr>\n      <th>0</th>\n      <td>1711945301</td>\n      <td>1013613</td>\n      <td>Mozilla/5.0 (Linux; Android 8.1.0; Redmi 5 Plu...</td>\n      <td>3207</td>\n      <td>175610</td>\n      <td>Opera Mobile</td>\n      <td>Android</td>\n      <td>XiaoMi Redmi 5 Plus</td>\n      <td>1</td>\n      <td>75</td>\n      <td>135</td>\n      <td>199</td>\n    </tr>\n    <tr>\n      <th>1</th>\n      <td>1711941903</td>\n      <td>17082498</td>\n      <td>Mozilla/5.0 (Windows NT 10.0; Win64; x64) Appl...</td>\n      <td>2042</td>\n      <td>144480</td>\n      <td>Chrome</td>\n      <td>Windows</td>\n      <td>Other</td>\n      <td>0</td>\n      <td>72</td>\n      <td>78</td>\n      <td>40</td>\n    </tr>\n    <tr>\n      <th>2</th>\n      <td>1712088484</td>\n      <td>12787875</td>\n      <td>Mozilla/5.0 (Windows NT 10.0; Win64; x64) Appl...</td>\n      <td>3191</td>\n      <td>9105</td>\n      <td>Chrome</td>\n      <td>Windows</td>\n      <td>Other</td>\n      <td>1</td>\n      <td>73</td>\n      <td>-1</td>\n      <td>79</td>\n    </tr>\n    <tr>\n      <th>3</th>\n      <td>1711918808</td>\n      <td>8871292</td>\n      <td>Mozilla/5.0 (Linux; Android 10; K) AppleWebKit...</td>\n      <td>551</td>\n      <td>175610</td>\n      <td>Chrome Mobile</td>\n      <td>Android</td>\n      <td>K</td>\n      <td>0</td>\n      <td>18</td>\n      <td>192</td>\n      <td>40</td>\n    </tr>\n    <tr>\n      <th>4</th>\n      <td>1712117806</td>\n      <td>11372673</td>\n      <td>Mozilla/5.0 (Windows NT 10.0; Win64; x64) Appl...</td>\n      <td>662</td>\n      <td>120157</td>\n      <td>Chrome</td>\n      <td>Windows</td>\n      <td>Other</td>\n      <td>1</td>\n      <td>41</td>\n      <td>184</td>\n      <td>40</td>\n    </tr>\n    <tr>\n      <th>...</th>\n      <td>...</td>\n      <td>...</td>\n      <td>...</td>\n      <td>...</td>\n      <td>...</td>\n      <td>...</td>\n      <td>...</td>\n      <td>...</td>\n      <td>...</td>\n      <td>...</td>\n      <td>...</td>\n      <td>...</td>\n    </tr>\n    <tr>\n      <th>499995</th>\n      <td>1712139644</td>\n      <td>12714094</td>\n      <td>Mozilla/5.0 (Windows NT 10.0; Win64; x64) Appl...</td>\n      <td>294</td>\n      <td>146930</td>\n      <td>Opera</td>\n      <td>Windows</td>\n      <td>Other</td>\n      <td>1</td>\n      <td>69</td>\n      <td>189</td>\n      <td>40</td>\n    </tr>\n    <tr>\n      <th>499996</th>\n      <td>1712130188</td>\n      <td>11110004</td>\n      <td>Mozilla/5.0 (Windows NT 10.0; Win64; x64) Appl...</td>\n      <td>2238</td>\n      <td>142190</td>\n      <td>Chrome</td>\n      <td>Windows</td>\n      <td>Other</td>\n      <td>1</td>\n      <td>72</td>\n      <td>135</td>\n      <td>199</td>\n    </tr>\n    <tr>\n      <th>499997</th>\n      <td>1712144776</td>\n      <td>5916185</td>\n      <td>Mozilla/5.0 (Linux; arm_64; Android 10; Redmi ...</td>\n      <td>1654</td>\n      <td>121641</td>\n      <td>Chrome</td>\n      <td>Android</td>\n      <td>XiaoMi Redmi Note 7</td>\n      <td>1</td>\n      <td>74</td>\n      <td>49</td>\n      <td>40</td>\n    </tr>\n    <tr>\n      <th>499998</th>\n      <td>1711946661</td>\n      <td>921657</td>\n      <td>Mozilla/5.0 (Linux; Android 10; K) AppleWebKit...</td>\n      <td>2833</td>\n      <td>138343</td>\n      <td>Chrome Mobile</td>\n      <td>Android</td>\n      <td>K</td>\n      <td>1</td>\n      <td>41</td>\n      <td>184</td>\n      <td>40</td>\n    </tr>\n    <tr>\n      <th>499999</th>\n      <td>1711982760</td>\n      <td>650325</td>\n      <td>Mozilla/5.0 (Windows NT 10.0; Win64; x64) Appl...</td>\n      <td>3142</td>\n      <td>101963</td>\n      <td>Edge</td>\n      <td>Windows</td>\n      <td>Other</td>\n      <td>0</td>\n      <td>19</td>\n      <td>-1</td>\n      <td>40</td>\n    </tr>\n  </tbody>\n</table>\n<p>500000 rows × 12 columns</p>\n</div>"
     },
     "execution_count": 87,
     "metadata": {},
     "output_type": "execute_result"
    }
   ],
   "source": [
    "filtered = merged_final.drop(['referer','geo_id'], axis=1)\n",
    "filtered"
   ],
   "metadata": {
    "collapsed": false
   }
  },
  {
   "cell_type": "code",
   "execution_count": 88,
   "outputs": [
    {
     "data": {
      "text/plain": "         timestamp   user_id  \\\n0       1711945301   1013613   \n1       1711941903  17082498   \n2       1712088484  12787875   \n3       1711918808   8871292   \n4       1712117806  11372673   \n...            ...       ...   \n499995  1712139644  12714094   \n499996  1712130188  11110004   \n499997  1712144776   5916185   \n499998  1711946661    921657   \n499999  1711982760    650325   \n\n                                               user_agent domain    path  \\\n0       Mozilla/5.0 (Linux; Android 8.1.0; Redmi 5 Plu...   3207  175610   \n1       Mozilla/5.0 (Windows NT 10.0; Win64; x64) Appl...   2042  144480   \n2       Mozilla/5.0 (Windows NT 10.0; Win64; x64) Appl...   3191    9105   \n3       Mozilla/5.0 (Linux; Android 10; K) AppleWebKit...    551  175610   \n4       Mozilla/5.0 (Windows NT 10.0; Win64; x64) Appl...    662  120157   \n...                                                   ...    ...     ...   \n499995  Mozilla/5.0 (Windows NT 10.0; Win64; x64) Appl...    294  146930   \n499996  Mozilla/5.0 (Windows NT 10.0; Win64; x64) Appl...   2238  142190   \n499997  Mozilla/5.0 (Linux; arm_64; Android 10; Redmi ...   1654  121641   \n499998  Mozilla/5.0 (Linux; Android 10; K) AppleWebKit...   2833  138343   \n499999  Mozilla/5.0 (Windows NT 10.0; Win64; x64) Appl...   3142  101963   \n\n              browser       os              devices  gender  age  region_id  \\\n0        Opera Mobile  Android  XiaoMi Redmi 5 Plus       1   75        135   \n1              Chrome  Windows                Other       0   72         78   \n2              Chrome  Windows                Other       1   73         -1   \n3       Chrome Mobile  Android                    K       0   18        192   \n4              Chrome  Windows                Other       1   41        184   \n...               ...      ...                  ...     ...  ...        ...   \n499995          Opera  Windows                Other       1   69        189   \n499996         Chrome  Windows                Other       1   72        135   \n499997         Chrome  Android  XiaoMi Redmi Note 7       1   74         49   \n499998  Chrome Mobile  Android                    K       1   41        184   \n499999           Edge  Windows                Other       0   19         -1   \n\n        country_id  \n0              199  \n1               40  \n2               79  \n3               40  \n4               40  \n...            ...  \n499995          40  \n499996         199  \n499997          40  \n499998          40  \n499999          40  \n\n[477922 rows x 12 columns]",
      "text/html": "<div>\n<style scoped>\n    .dataframe tbody tr th:only-of-type {\n        vertical-align: middle;\n    }\n\n    .dataframe tbody tr th {\n        vertical-align: top;\n    }\n\n    .dataframe thead th {\n        text-align: right;\n    }\n</style>\n<table border=\"1\" class=\"dataframe\">\n  <thead>\n    <tr style=\"text-align: right;\">\n      <th></th>\n      <th>timestamp</th>\n      <th>user_id</th>\n      <th>user_agent</th>\n      <th>domain</th>\n      <th>path</th>\n      <th>browser</th>\n      <th>os</th>\n      <th>devices</th>\n      <th>gender</th>\n      <th>age</th>\n      <th>region_id</th>\n      <th>country_id</th>\n    </tr>\n  </thead>\n  <tbody>\n    <tr>\n      <th>0</th>\n      <td>1711945301</td>\n      <td>1013613</td>\n      <td>Mozilla/5.0 (Linux; Android 8.1.0; Redmi 5 Plu...</td>\n      <td>3207</td>\n      <td>175610</td>\n      <td>Opera Mobile</td>\n      <td>Android</td>\n      <td>XiaoMi Redmi 5 Plus</td>\n      <td>1</td>\n      <td>75</td>\n      <td>135</td>\n      <td>199</td>\n    </tr>\n    <tr>\n      <th>1</th>\n      <td>1711941903</td>\n      <td>17082498</td>\n      <td>Mozilla/5.0 (Windows NT 10.0; Win64; x64) Appl...</td>\n      <td>2042</td>\n      <td>144480</td>\n      <td>Chrome</td>\n      <td>Windows</td>\n      <td>Other</td>\n      <td>0</td>\n      <td>72</td>\n      <td>78</td>\n      <td>40</td>\n    </tr>\n    <tr>\n      <th>2</th>\n      <td>1712088484</td>\n      <td>12787875</td>\n      <td>Mozilla/5.0 (Windows NT 10.0; Win64; x64) Appl...</td>\n      <td>3191</td>\n      <td>9105</td>\n      <td>Chrome</td>\n      <td>Windows</td>\n      <td>Other</td>\n      <td>1</td>\n      <td>73</td>\n      <td>-1</td>\n      <td>79</td>\n    </tr>\n    <tr>\n      <th>3</th>\n      <td>1711918808</td>\n      <td>8871292</td>\n      <td>Mozilla/5.0 (Linux; Android 10; K) AppleWebKit...</td>\n      <td>551</td>\n      <td>175610</td>\n      <td>Chrome Mobile</td>\n      <td>Android</td>\n      <td>K</td>\n      <td>0</td>\n      <td>18</td>\n      <td>192</td>\n      <td>40</td>\n    </tr>\n    <tr>\n      <th>4</th>\n      <td>1712117806</td>\n      <td>11372673</td>\n      <td>Mozilla/5.0 (Windows NT 10.0; Win64; x64) Appl...</td>\n      <td>662</td>\n      <td>120157</td>\n      <td>Chrome</td>\n      <td>Windows</td>\n      <td>Other</td>\n      <td>1</td>\n      <td>41</td>\n      <td>184</td>\n      <td>40</td>\n    </tr>\n    <tr>\n      <th>...</th>\n      <td>...</td>\n      <td>...</td>\n      <td>...</td>\n      <td>...</td>\n      <td>...</td>\n      <td>...</td>\n      <td>...</td>\n      <td>...</td>\n      <td>...</td>\n      <td>...</td>\n      <td>...</td>\n      <td>...</td>\n    </tr>\n    <tr>\n      <th>499995</th>\n      <td>1712139644</td>\n      <td>12714094</td>\n      <td>Mozilla/5.0 (Windows NT 10.0; Win64; x64) Appl...</td>\n      <td>294</td>\n      <td>146930</td>\n      <td>Opera</td>\n      <td>Windows</td>\n      <td>Other</td>\n      <td>1</td>\n      <td>69</td>\n      <td>189</td>\n      <td>40</td>\n    </tr>\n    <tr>\n      <th>499996</th>\n      <td>1712130188</td>\n      <td>11110004</td>\n      <td>Mozilla/5.0 (Windows NT 10.0; Win64; x64) Appl...</td>\n      <td>2238</td>\n      <td>142190</td>\n      <td>Chrome</td>\n      <td>Windows</td>\n      <td>Other</td>\n      <td>1</td>\n      <td>72</td>\n      <td>135</td>\n      <td>199</td>\n    </tr>\n    <tr>\n      <th>499997</th>\n      <td>1712144776</td>\n      <td>5916185</td>\n      <td>Mozilla/5.0 (Linux; arm_64; Android 10; Redmi ...</td>\n      <td>1654</td>\n      <td>121641</td>\n      <td>Chrome</td>\n      <td>Android</td>\n      <td>XiaoMi Redmi Note 7</td>\n      <td>1</td>\n      <td>74</td>\n      <td>49</td>\n      <td>40</td>\n    </tr>\n    <tr>\n      <th>499998</th>\n      <td>1711946661</td>\n      <td>921657</td>\n      <td>Mozilla/5.0 (Linux; Android 10; K) AppleWebKit...</td>\n      <td>2833</td>\n      <td>138343</td>\n      <td>Chrome Mobile</td>\n      <td>Android</td>\n      <td>K</td>\n      <td>1</td>\n      <td>41</td>\n      <td>184</td>\n      <td>40</td>\n    </tr>\n    <tr>\n      <th>499999</th>\n      <td>1711982760</td>\n      <td>650325</td>\n      <td>Mozilla/5.0 (Windows NT 10.0; Win64; x64) Appl...</td>\n      <td>3142</td>\n      <td>101963</td>\n      <td>Edge</td>\n      <td>Windows</td>\n      <td>Other</td>\n      <td>0</td>\n      <td>19</td>\n      <td>-1</td>\n      <td>40</td>\n    </tr>\n  </tbody>\n</table>\n<p>477922 rows × 12 columns</p>\n</div>"
     },
     "execution_count": 88,
     "metadata": {},
     "output_type": "execute_result"
    }
   ],
   "source": [
    "filtered = filtered[filtered['domain'].str.strip().astype(bool)]\n",
    "filtered"
   ],
   "metadata": {
    "collapsed": false
   }
  },
  {
   "cell_type": "code",
   "execution_count": 89,
   "outputs": [
    {
     "name": "stderr",
     "output_type": "stream",
     "text": [
      "C:\\Users\\Gregory\\AppData\\Local\\Temp\\ipykernel_31916\\3616112996.py:1: SettingWithCopyWarning: \n",
      "A value is trying to be set on a copy of a slice from a DataFrame.\n",
      "Try using .loc[row_indexer,col_indexer] = value instead\n",
      "\n",
      "See the caveats in the documentation: https://pandas.pydata.org/pandas-docs/stable/user_guide/indexing.html#returning-a-view-versus-a-copy\n",
      "  filtered['path_count'] = filtered.groupby(['user_id', 'domain'])['path'].transform('size')\n"
     ]
    },
    {
     "data": {
      "text/plain": "         timestamp   user_id  \\\n0       1711945301   1013613   \n1       1711941903  17082498   \n2       1712088484  12787875   \n3       1711918808   8871292   \n4       1712117806  11372673   \n...            ...       ...   \n499995  1712139644  12714094   \n499996  1712130188  11110004   \n499997  1712144776   5916185   \n499998  1711946661    921657   \n499999  1711982760    650325   \n\n                                               user_agent domain    path  \\\n0       Mozilla/5.0 (Linux; Android 8.1.0; Redmi 5 Plu...   3207  175610   \n1       Mozilla/5.0 (Windows NT 10.0; Win64; x64) Appl...   2042  144480   \n2       Mozilla/5.0 (Windows NT 10.0; Win64; x64) Appl...   3191    9105   \n3       Mozilla/5.0 (Linux; Android 10; K) AppleWebKit...    551  175610   \n4       Mozilla/5.0 (Windows NT 10.0; Win64; x64) Appl...    662  120157   \n...                                                   ...    ...     ...   \n499995  Mozilla/5.0 (Windows NT 10.0; Win64; x64) Appl...    294  146930   \n499996  Mozilla/5.0 (Windows NT 10.0; Win64; x64) Appl...   2238  142190   \n499997  Mozilla/5.0 (Linux; arm_64; Android 10; Redmi ...   1654  121641   \n499998  Mozilla/5.0 (Linux; Android 10; K) AppleWebKit...   2833  138343   \n499999  Mozilla/5.0 (Windows NT 10.0; Win64; x64) Appl...   3142  101963   \n\n              browser       os              devices  gender  age  region_id  \\\n0        Opera Mobile  Android  XiaoMi Redmi 5 Plus       1   75        135   \n1              Chrome  Windows                Other       0   72         78   \n2              Chrome  Windows                Other       1   73         -1   \n3       Chrome Mobile  Android                    K       0   18        192   \n4              Chrome  Windows                Other       1   41        184   \n...               ...      ...                  ...     ...  ...        ...   \n499995          Opera  Windows                Other       1   69        189   \n499996         Chrome  Windows                Other       1   72        135   \n499997         Chrome  Android  XiaoMi Redmi Note 7       1   74         49   \n499998  Chrome Mobile  Android                    K       1   41        184   \n499999           Edge  Windows                Other       0   19         -1   \n\n        country_id  path_count  \n0              199           1  \n1               40           1  \n2               79           1  \n3               40           2  \n4               40           1  \n...            ...         ...  \n499995          40           1  \n499996         199           1  \n499997          40           1  \n499998          40           1  \n499999          40           1  \n\n[477922 rows x 13 columns]",
      "text/html": "<div>\n<style scoped>\n    .dataframe tbody tr th:only-of-type {\n        vertical-align: middle;\n    }\n\n    .dataframe tbody tr th {\n        vertical-align: top;\n    }\n\n    .dataframe thead th {\n        text-align: right;\n    }\n</style>\n<table border=\"1\" class=\"dataframe\">\n  <thead>\n    <tr style=\"text-align: right;\">\n      <th></th>\n      <th>timestamp</th>\n      <th>user_id</th>\n      <th>user_agent</th>\n      <th>domain</th>\n      <th>path</th>\n      <th>browser</th>\n      <th>os</th>\n      <th>devices</th>\n      <th>gender</th>\n      <th>age</th>\n      <th>region_id</th>\n      <th>country_id</th>\n      <th>path_count</th>\n    </tr>\n  </thead>\n  <tbody>\n    <tr>\n      <th>0</th>\n      <td>1711945301</td>\n      <td>1013613</td>\n      <td>Mozilla/5.0 (Linux; Android 8.1.0; Redmi 5 Plu...</td>\n      <td>3207</td>\n      <td>175610</td>\n      <td>Opera Mobile</td>\n      <td>Android</td>\n      <td>XiaoMi Redmi 5 Plus</td>\n      <td>1</td>\n      <td>75</td>\n      <td>135</td>\n      <td>199</td>\n      <td>1</td>\n    </tr>\n    <tr>\n      <th>1</th>\n      <td>1711941903</td>\n      <td>17082498</td>\n      <td>Mozilla/5.0 (Windows NT 10.0; Win64; x64) Appl...</td>\n      <td>2042</td>\n      <td>144480</td>\n      <td>Chrome</td>\n      <td>Windows</td>\n      <td>Other</td>\n      <td>0</td>\n      <td>72</td>\n      <td>78</td>\n      <td>40</td>\n      <td>1</td>\n    </tr>\n    <tr>\n      <th>2</th>\n      <td>1712088484</td>\n      <td>12787875</td>\n      <td>Mozilla/5.0 (Windows NT 10.0; Win64; x64) Appl...</td>\n      <td>3191</td>\n      <td>9105</td>\n      <td>Chrome</td>\n      <td>Windows</td>\n      <td>Other</td>\n      <td>1</td>\n      <td>73</td>\n      <td>-1</td>\n      <td>79</td>\n      <td>1</td>\n    </tr>\n    <tr>\n      <th>3</th>\n      <td>1711918808</td>\n      <td>8871292</td>\n      <td>Mozilla/5.0 (Linux; Android 10; K) AppleWebKit...</td>\n      <td>551</td>\n      <td>175610</td>\n      <td>Chrome Mobile</td>\n      <td>Android</td>\n      <td>K</td>\n      <td>0</td>\n      <td>18</td>\n      <td>192</td>\n      <td>40</td>\n      <td>2</td>\n    </tr>\n    <tr>\n      <th>4</th>\n      <td>1712117806</td>\n      <td>11372673</td>\n      <td>Mozilla/5.0 (Windows NT 10.0; Win64; x64) Appl...</td>\n      <td>662</td>\n      <td>120157</td>\n      <td>Chrome</td>\n      <td>Windows</td>\n      <td>Other</td>\n      <td>1</td>\n      <td>41</td>\n      <td>184</td>\n      <td>40</td>\n      <td>1</td>\n    </tr>\n    <tr>\n      <th>...</th>\n      <td>...</td>\n      <td>...</td>\n      <td>...</td>\n      <td>...</td>\n      <td>...</td>\n      <td>...</td>\n      <td>...</td>\n      <td>...</td>\n      <td>...</td>\n      <td>...</td>\n      <td>...</td>\n      <td>...</td>\n      <td>...</td>\n    </tr>\n    <tr>\n      <th>499995</th>\n      <td>1712139644</td>\n      <td>12714094</td>\n      <td>Mozilla/5.0 (Windows NT 10.0; Win64; x64) Appl...</td>\n      <td>294</td>\n      <td>146930</td>\n      <td>Opera</td>\n      <td>Windows</td>\n      <td>Other</td>\n      <td>1</td>\n      <td>69</td>\n      <td>189</td>\n      <td>40</td>\n      <td>1</td>\n    </tr>\n    <tr>\n      <th>499996</th>\n      <td>1712130188</td>\n      <td>11110004</td>\n      <td>Mozilla/5.0 (Windows NT 10.0; Win64; x64) Appl...</td>\n      <td>2238</td>\n      <td>142190</td>\n      <td>Chrome</td>\n      <td>Windows</td>\n      <td>Other</td>\n      <td>1</td>\n      <td>72</td>\n      <td>135</td>\n      <td>199</td>\n      <td>1</td>\n    </tr>\n    <tr>\n      <th>499997</th>\n      <td>1712144776</td>\n      <td>5916185</td>\n      <td>Mozilla/5.0 (Linux; arm_64; Android 10; Redmi ...</td>\n      <td>1654</td>\n      <td>121641</td>\n      <td>Chrome</td>\n      <td>Android</td>\n      <td>XiaoMi Redmi Note 7</td>\n      <td>1</td>\n      <td>74</td>\n      <td>49</td>\n      <td>40</td>\n      <td>1</td>\n    </tr>\n    <tr>\n      <th>499998</th>\n      <td>1711946661</td>\n      <td>921657</td>\n      <td>Mozilla/5.0 (Linux; Android 10; K) AppleWebKit...</td>\n      <td>2833</td>\n      <td>138343</td>\n      <td>Chrome Mobile</td>\n      <td>Android</td>\n      <td>K</td>\n      <td>1</td>\n      <td>41</td>\n      <td>184</td>\n      <td>40</td>\n      <td>1</td>\n    </tr>\n    <tr>\n      <th>499999</th>\n      <td>1711982760</td>\n      <td>650325</td>\n      <td>Mozilla/5.0 (Windows NT 10.0; Win64; x64) Appl...</td>\n      <td>3142</td>\n      <td>101963</td>\n      <td>Edge</td>\n      <td>Windows</td>\n      <td>Other</td>\n      <td>0</td>\n      <td>19</td>\n      <td>-1</td>\n      <td>40</td>\n      <td>1</td>\n    </tr>\n  </tbody>\n</table>\n<p>477922 rows × 13 columns</p>\n</div>"
     },
     "execution_count": 89,
     "metadata": {},
     "output_type": "execute_result"
    }
   ],
   "source": [
    "filtered['path_count'] = filtered.groupby(['user_id', 'domain'])['path'].transform('size')\n",
    "filtered"
   ],
   "metadata": {
    "collapsed": false
   }
  },
  {
   "cell_type": "code",
   "execution_count": 96,
   "outputs": [
    {
     "name": "stderr",
     "output_type": "stream",
     "text": [
      "C:\\Users\\Gregory\\AppData\\Local\\Temp\\ipykernel_31916\\2887933479.py:4: SettingWithCopyWarning: \n",
      "A value is trying to be set on a copy of a slice from a DataFrame.\n",
      "Try using .loc[row_indexer,col_indexer] = value instead\n",
      "\n",
      "See the caveats in the documentation: https://pandas.pydata.org/pandas-docs/stable/user_guide/indexing.html#returning-a-view-versus-a-copy\n",
      "  filtered['browser'] = label_encoder_browser.fit_transform(filtered['browser'])\n",
      "C:\\Users\\Gregory\\AppData\\Local\\Temp\\ipykernel_31916\\2887933479.py:7: SettingWithCopyWarning: \n",
      "A value is trying to be set on a copy of a slice from a DataFrame.\n",
      "Try using .loc[row_indexer,col_indexer] = value instead\n",
      "\n",
      "See the caveats in the documentation: https://pandas.pydata.org/pandas-docs/stable/user_guide/indexing.html#returning-a-view-versus-a-copy\n",
      "  filtered['os'] = label_encoder_os.fit_transform(filtered['os'])\n",
      "C:\\Users\\Gregory\\AppData\\Local\\Temp\\ipykernel_31916\\2887933479.py:10: SettingWithCopyWarning: \n",
      "A value is trying to be set on a copy of a slice from a DataFrame.\n",
      "Try using .loc[row_indexer,col_indexer] = value instead\n",
      "\n",
      "See the caveats in the documentation: https://pandas.pydata.org/pandas-docs/stable/user_guide/indexing.html#returning-a-view-versus-a-copy\n",
      "  filtered['devices'] = label_encoder_device.fit_transform(filtered['devices'])\n",
      "C:\\Users\\Gregory\\AppData\\Local\\Temp\\ipykernel_31916\\2887933479.py:13: SettingWithCopyWarning: \n",
      "A value is trying to be set on a copy of a slice from a DataFrame.\n",
      "Try using .loc[row_indexer,col_indexer] = value instead\n",
      "\n",
      "See the caveats in the documentation: https://pandas.pydata.org/pandas-docs/stable/user_guide/indexing.html#returning-a-view-versus-a-copy\n",
      "  filtered['domain'] = label_encoder_device.fit_transform(filtered['domain'])\n",
      "C:\\Users\\Gregory\\AppData\\Local\\Temp\\ipykernel_31916\\2887933479.py:16: SettingWithCopyWarning: \n",
      "A value is trying to be set on a copy of a slice from a DataFrame.\n",
      "Try using .loc[row_indexer,col_indexer] = value instead\n",
      "\n",
      "See the caveats in the documentation: https://pandas.pydata.org/pandas-docs/stable/user_guide/indexing.html#returning-a-view-versus-a-copy\n",
      "  filtered['path'] = label_encoder_device.fit_transform(filtered['path'])\n"
     ]
    },
    {
     "data": {
      "text/plain": "         timestamp   user_id  \\\n0       1711945301   1013613   \n1       1711941903  17082498   \n2       1712088484  12787875   \n3       1711918808   8871292   \n4       1712117806  11372673   \n...            ...       ...   \n499995  1712139644  12714094   \n499996  1712130188  11110004   \n499997  1712144776   5916185   \n499998  1711946661    921657   \n499999  1711982760    650325   \n\n                                               user_agent  domain   path  \\\n0       Mozilla/5.0 (Linux; Android 8.1.0; Redmi 5 Plu...     755   5808   \n1       Mozilla/5.0 (Windows NT 10.0; Win64; x64) Appl...     382   3406   \n2       Mozilla/5.0 (Windows NT 10.0; Win64; x64) Appl...     748  13150   \n3       Mozilla/5.0 (Linux; Android 10; K) AppleWebKit...     883   5808   \n4       Mozilla/5.0 (Windows NT 10.0; Win64; x64) Appl...     918   1552   \n...                                                   ...     ...    ...   \n499995  Mozilla/5.0 (Windows NT 10.0; Win64; x64) Appl...     667   3599   \n499996  Mozilla/5.0 (Windows NT 10.0; Win64; x64) Appl...     452   3239   \n499997  Mozilla/5.0 (Linux; arm_64; Android 10; Redmi ...     235   1674   \n499998  Mozilla/5.0 (Linux; Android 10; K) AppleWebKit...     635   2964   \n499999  Mozilla/5.0 (Windows NT 10.0; Win64; x64) Appl...     728    177   \n\n        browser  os  devices  gender  age  region_id  country_id  path_count  \n0            26   0     2477       1   75        135         199           1  \n1             2   8     1509       0   72         78          40           1  \n2             2   8     1509       1   73         -1          79           1  \n3             3   0      874       0   18        192          40           2  \n4             2   8     1509       1   41        184          40           1  \n...         ...  ..      ...     ...  ...        ...         ...         ...  \n499995       24   8     1509       1   69        189          40           1  \n499996        2   8     1509       1   72        135         199           1  \n499997        2   0     2519       1   74         49          40           1  \n499998        3   0      874       1   41        184          40           1  \n499999        8   8     1509       0   19         -1          40           1  \n\n[477922 rows x 13 columns]",
      "text/html": "<div>\n<style scoped>\n    .dataframe tbody tr th:only-of-type {\n        vertical-align: middle;\n    }\n\n    .dataframe tbody tr th {\n        vertical-align: top;\n    }\n\n    .dataframe thead th {\n        text-align: right;\n    }\n</style>\n<table border=\"1\" class=\"dataframe\">\n  <thead>\n    <tr style=\"text-align: right;\">\n      <th></th>\n      <th>timestamp</th>\n      <th>user_id</th>\n      <th>user_agent</th>\n      <th>domain</th>\n      <th>path</th>\n      <th>browser</th>\n      <th>os</th>\n      <th>devices</th>\n      <th>gender</th>\n      <th>age</th>\n      <th>region_id</th>\n      <th>country_id</th>\n      <th>path_count</th>\n    </tr>\n  </thead>\n  <tbody>\n    <tr>\n      <th>0</th>\n      <td>1711945301</td>\n      <td>1013613</td>\n      <td>Mozilla/5.0 (Linux; Android 8.1.0; Redmi 5 Plu...</td>\n      <td>755</td>\n      <td>5808</td>\n      <td>26</td>\n      <td>0</td>\n      <td>2477</td>\n      <td>1</td>\n      <td>75</td>\n      <td>135</td>\n      <td>199</td>\n      <td>1</td>\n    </tr>\n    <tr>\n      <th>1</th>\n      <td>1711941903</td>\n      <td>17082498</td>\n      <td>Mozilla/5.0 (Windows NT 10.0; Win64; x64) Appl...</td>\n      <td>382</td>\n      <td>3406</td>\n      <td>2</td>\n      <td>8</td>\n      <td>1509</td>\n      <td>0</td>\n      <td>72</td>\n      <td>78</td>\n      <td>40</td>\n      <td>1</td>\n    </tr>\n    <tr>\n      <th>2</th>\n      <td>1712088484</td>\n      <td>12787875</td>\n      <td>Mozilla/5.0 (Windows NT 10.0; Win64; x64) Appl...</td>\n      <td>748</td>\n      <td>13150</td>\n      <td>2</td>\n      <td>8</td>\n      <td>1509</td>\n      <td>1</td>\n      <td>73</td>\n      <td>-1</td>\n      <td>79</td>\n      <td>1</td>\n    </tr>\n    <tr>\n      <th>3</th>\n      <td>1711918808</td>\n      <td>8871292</td>\n      <td>Mozilla/5.0 (Linux; Android 10; K) AppleWebKit...</td>\n      <td>883</td>\n      <td>5808</td>\n      <td>3</td>\n      <td>0</td>\n      <td>874</td>\n      <td>0</td>\n      <td>18</td>\n      <td>192</td>\n      <td>40</td>\n      <td>2</td>\n    </tr>\n    <tr>\n      <th>4</th>\n      <td>1712117806</td>\n      <td>11372673</td>\n      <td>Mozilla/5.0 (Windows NT 10.0; Win64; x64) Appl...</td>\n      <td>918</td>\n      <td>1552</td>\n      <td>2</td>\n      <td>8</td>\n      <td>1509</td>\n      <td>1</td>\n      <td>41</td>\n      <td>184</td>\n      <td>40</td>\n      <td>1</td>\n    </tr>\n    <tr>\n      <th>...</th>\n      <td>...</td>\n      <td>...</td>\n      <td>...</td>\n      <td>...</td>\n      <td>...</td>\n      <td>...</td>\n      <td>...</td>\n      <td>...</td>\n      <td>...</td>\n      <td>...</td>\n      <td>...</td>\n      <td>...</td>\n      <td>...</td>\n    </tr>\n    <tr>\n      <th>499995</th>\n      <td>1712139644</td>\n      <td>12714094</td>\n      <td>Mozilla/5.0 (Windows NT 10.0; Win64; x64) Appl...</td>\n      <td>667</td>\n      <td>3599</td>\n      <td>24</td>\n      <td>8</td>\n      <td>1509</td>\n      <td>1</td>\n      <td>69</td>\n      <td>189</td>\n      <td>40</td>\n      <td>1</td>\n    </tr>\n    <tr>\n      <th>499996</th>\n      <td>1712130188</td>\n      <td>11110004</td>\n      <td>Mozilla/5.0 (Windows NT 10.0; Win64; x64) Appl...</td>\n      <td>452</td>\n      <td>3239</td>\n      <td>2</td>\n      <td>8</td>\n      <td>1509</td>\n      <td>1</td>\n      <td>72</td>\n      <td>135</td>\n      <td>199</td>\n      <td>1</td>\n    </tr>\n    <tr>\n      <th>499997</th>\n      <td>1712144776</td>\n      <td>5916185</td>\n      <td>Mozilla/5.0 (Linux; arm_64; Android 10; Redmi ...</td>\n      <td>235</td>\n      <td>1674</td>\n      <td>2</td>\n      <td>0</td>\n      <td>2519</td>\n      <td>1</td>\n      <td>74</td>\n      <td>49</td>\n      <td>40</td>\n      <td>1</td>\n    </tr>\n    <tr>\n      <th>499998</th>\n      <td>1711946661</td>\n      <td>921657</td>\n      <td>Mozilla/5.0 (Linux; Android 10; K) AppleWebKit...</td>\n      <td>635</td>\n      <td>2964</td>\n      <td>3</td>\n      <td>0</td>\n      <td>874</td>\n      <td>1</td>\n      <td>41</td>\n      <td>184</td>\n      <td>40</td>\n      <td>1</td>\n    </tr>\n    <tr>\n      <th>499999</th>\n      <td>1711982760</td>\n      <td>650325</td>\n      <td>Mozilla/5.0 (Windows NT 10.0; Win64; x64) Appl...</td>\n      <td>728</td>\n      <td>177</td>\n      <td>8</td>\n      <td>8</td>\n      <td>1509</td>\n      <td>0</td>\n      <td>19</td>\n      <td>-1</td>\n      <td>40</td>\n      <td>1</td>\n    </tr>\n  </tbody>\n</table>\n<p>477922 rows × 13 columns</p>\n</div>"
     },
     "execution_count": 96,
     "metadata": {},
     "output_type": "execute_result"
    }
   ],
   "source": [
    "from sklearn.preprocessing import LabelEncoder\n",
    "\n",
    "label_encoder_browser = LabelEncoder()\n",
    "filtered['browser'] = label_encoder_browser.fit_transform(filtered['browser'])\n",
    "\n",
    "label_encoder_os = LabelEncoder()\n",
    "filtered['os'] = label_encoder_os.fit_transform(filtered['os'])\n",
    "\n",
    "label_encoder_device = LabelEncoder()\n",
    "filtered['devices'] = label_encoder_device.fit_transform(filtered['devices'])\n",
    "\n",
    "label_encoder_domain = LabelEncoder()\n",
    "filtered['domain'] = label_encoder_device.fit_transform(filtered['domain'])\n",
    "\n",
    "label_encoder_path = LabelEncoder()\n",
    "filtered['path'] = label_encoder_device.fit_transform(filtered['path'])\n",
    "\n",
    "# Полученные значения могут быть сохранены, чтобы использовать их для обратного преобразования, если это необходимо:\n",
    "# inverse_browser = label_encoder_browser.inverse_transform(filtered['browser_code'])\n",
    "\n",
    "filtered"
   ],
   "metadata": {
    "collapsed": false
   }
  },
  {
   "cell_type": "code",
   "execution_count": 99,
   "outputs": [],
   "source": [
    "import pandas as pd\n",
    "from sklearn.utils import resample\n",
    "\n",
    "# Предположим, что df - это ваш DataFrame, а 'gender' - столбец с категориальными данными (0 и 1)\n",
    "# Определяем, какие строки содержат 0, а какие - 1\n",
    "zeros = filtered[filtered['gender'] == 0]\n",
    "ones = filtered[filtered['gender'] == 1]\n",
    "\n",
    "# Находим количество элементов в каждом из классов\n",
    "zeros_count = len(zeros)\n",
    "ones_count = len(ones)\n",
    "\n",
    "# Определяем, какой класс имеет больше элементов\n",
    "majority_class = 0 if zeros_count > ones_count else 1\n",
    "minority_class = 1 if majority_class == 0 else 0\n",
    "\n",
    "# Уменьшаем выборку для большего класса\n",
    "downsampled_majority = resample(zeros if majority_class == 0 else ones,\n",
    "                                replace=False,  # Не заменяем элементы\n",
    "                                n_samples=ones_count if majority_class == 1 else zeros_count,  # Количество элементов равно количеству элементов в меньшем классе\n",
    "                                random_state=42)  # Для воспроизводимости\n",
    "\n",
    "# Создаем новый DataFrame с уменьшенной выборкой\n",
    "downsampled_df = pd.concat([downsampled_majority, ones if majority_class == 0 else zeros])\n"
   ],
   "metadata": {
    "collapsed": false
   }
  },
  {
   "cell_type": "code",
   "execution_count": null,
   "outputs": [],
   "source": [
    "import pandas as pd\n",
    "import numpy as np\n",
    "import fasttext\n",
    "from sklearn.manifold import TSNE\n",
    "import plotly.graph_objs as go\n",
    "\n",
    "# Normalize UAS to lower case, add labels, and split data into train and test sets\n",
    "np.random.seed(42)\n",
    "filtered['user_agent'] = filtered['user_agent'].str.lower()\n",
    "filtered['labeled_uas'] = \"__label__\" + filtered['os'] + \" \" + filtered['user_agent']\n",
    "filtered['dataset'] = np.random.choice([\"train\", \"test\"], size=len(filtered), replace=True, p=[0.975, 0.025])\n",
    "\n",
    "# Write train and test sets into text files, as expected by fastText\n",
    "filtered[filtered['dataset'] == \"train\"]['labeled_uas'].to_csv(\"./data/train_data_sup.txt\", index=False, header=False)\n",
    "filtered[filtered['dataset'] == \"test\"]['labeled_uas'].to_csv(\"./data/test_data_sup.txt\", index=False, header=False)\n",
    "\n",
    "test_data = filtered[filtered['dataset'] == \"test\"]\n",
    "\n",
    "# Supervised training\n",
    "params = {\n",
    "    \"input\": \"./data/train_data_sup.txt\",\n",
    "    \"lr\": 0.05,\n",
    "    \"dim\": 32,\n",
    "    \"minn\": 2,\n",
    "    \"maxn\": 6,\n",
    "    \"minCount\": 1,\n",
    "    \"minCountLabel\": 10,\n",
    "    \"neg\": 3,\n",
    "    \"wordNgrams\": 2,\n",
    "    \"ws\": 3,\n",
    "    \"epoch\": 100,\n",
    "    \"loss\": 'softmax',\n",
    "    \"thread\": 12\n",
    "}\n",
    "\n",
    "# Train the model\n",
    "model_sup = fasttext.train_supervised(**params)\n",
    "\n",
    "# Save the model for further use\n",
    "model_sup.save_model(\"./data/model_sup.bin\")\n",
    "\n",
    "# Check precision, recall, and f1 score for individual labels\n",
    "metrics = model_sup.test_label(\"./data/test_data_sup.txt\")\n",
    "print(metrics[\"__label__Windows\"])\n",
    "\n",
    "# Calculate embeddings for each UAS from the test set\n",
    "emb_sup = [model_sup.get_sentence_vector(text) for text in test_data['labeled_uas']]\n",
    "emb_sup = pd.DataFrame(emb_sup, columns=[f\"f{i+1}\" for i in range(params['dim'])])\n",
    "\n",
    "# Apply tSNE to ease visualization of the resultant embeddings\n",
    "tsne_sup = TSNE(n_components=3, perplexity=40, n_iter=1000, method='exact', random_state=42)\n",
    "tsne_coords_sup = tsne_sup.fit_transform(emb_sup)\n",
    "\n",
    "# Get tSNE coordinates\n",
    "tsne_coords_sup = pd.DataFrame(tsne_coords_sup, columns=[\"D1\", \"D2\", \"D3\"])\n",
    "tsne_coords_sup['label'] = test_data['os']\n",
    "tsne_coords_sup = tsne_coords_sup[tsne_coords_sup['label'].isin([\"Windows\", \"Android\", \"IOS\", \"Linux\", \"Mac OS X\"])]\n",
    "\n",
    "# Visualize results in an interactive plot\n",
    "fig = go.Figure(data=go.Scatter3d(\n",
    "    x=tsne_coords_sup['D1'],\n",
    "    y=tsne_coords_sup['D2'],\n",
    "    z=tsne_coords_sup['D3'],\n",
    "    mode='markers',\n",
    "    marker=dict(\n",
    "        size=4,\n",
    "        opacity=0.5,\n",
    "        color=tsne_coords_sup['label'],\n",
    "        colorscale='Set1'\n",
    "    ),\n",
    "    text=tsne_coords_sup['label']\n",
    "))\n",
    "\n",
    "fig.update_layout(\n",
    "    scene=dict(\n",
    "        xaxis=dict(title='tSNE dimension 1', showspikes=False),\n",
    "        yaxis=dict(title='tSNE dimension 2', showspikes=False),\n",
    "        zaxis=dict(title='tSNE dimension 3', showspikes=False)\n",
    "    ),\n",
    "    showlegend=True,\n",
    "    legend=dict(title='<b> Os: </b>'),\n",
    "    autosize=False,\n",
    "    margin=dict(l=2, r=2, b=2, t=30, pad=1)\n",
    ")\n",
    "\n",
    "fig.show(config={'displayModeBar': False})"
   ],
   "metadata": {
    "collapsed": false
   }
  },
  {
   "cell_type": "code",
   "execution_count": 97,
   "outputs": [],
   "source": [
    "features = ['path_count', 'country_id', 'region_id', 'os', 'devices', 'browser', 'domain', 'path']\n",
    "target_age = ['age']\n",
    "target_gender = ['gender']"
   ],
   "metadata": {
    "collapsed": false
   }
  },
  {
   "cell_type": "code",
   "execution_count": 100,
   "outputs": [
    {
     "name": "stderr",
     "output_type": "stream",
     "text": [
      "C:\\Users\\Gregory\\PycharmProjects\\vk_hack_local\\venv\\lib\\site-packages\\sklearn\\preprocessing\\_label.py:97: DataConversionWarning: A column-vector y was passed when a 1d array was expected. Please change the shape of y to (n_samples, ), for example using ravel().\n",
      "  y = column_or_1d(y, warn=True)\n",
      "C:\\Users\\Gregory\\PycharmProjects\\vk_hack_local\\venv\\lib\\site-packages\\sklearn\\preprocessing\\_label.py:132: DataConversionWarning: A column-vector y was passed when a 1d array was expected. Please change the shape of y to (n_samples, ), for example using ravel().\n",
      "  y = column_or_1d(y, dtype=self.classes_.dtype, warn=True)\n"
     ]
    },
    {
     "name": "stdout",
     "output_type": "stream",
     "text": [
      "[LightGBM] [Info] Number of positive: 200244, number of negative: 182093\n",
      "[LightGBM] [Info] Auto-choosing col-wise multi-threading, the overhead of testing was 0.021487 seconds.\n",
      "You can set `force_col_wise=true` to remove the overhead.\n",
      "[LightGBM] [Info] Total Bins 1009\n",
      "[LightGBM] [Info] Number of data points in the train set: 382337, number of used features: 8\n",
      "[LightGBM] [Info] [binary:BoostFromScore]: pavg=0.523737 -> initscore=0.095019\n",
      "[LightGBM] [Info] Start training from score 0.095019\n",
      "Accuracy: 0.6139247789925197\n",
      "\n",
      "Classification Report:\n",
      "              precision    recall  f1-score   support\n",
      "\n",
      "           0       0.65      0.41      0.50     45460\n",
      "           1       0.60      0.80      0.69     50125\n",
      "\n",
      "    accuracy                           0.61     95585\n",
      "   macro avg       0.62      0.60      0.59     95585\n",
      "weighted avg       0.62      0.61      0.60     95585\n",
      "\n"
     ]
    }
   ],
   "source": [
    "import lightgbm as lgb\n",
    "from sklearn.model_selection import train_test_split\n",
    "from sklearn.metrics import accuracy_score, classification_report\n",
    "\n",
    "X_train, X_val, y_train, y_val = train_test_split(downsampled_df[features], downsampled_df[target_gender], test_size=0.2, random_state=42)\n",
    "\n",
    "# Создание модели LightGBM\n",
    "model = lgb.LGBMClassifier()\n",
    "\n",
    "# Обучение модели на обучающих данных\n",
    "model.fit(X_train, y_train)\n",
    "\n",
    "# Прогнозирование на валидационных данных\n",
    "predictions = model.predict(X_val)\n",
    "\n",
    "# Вычисление точности\n",
    "accuracy = accuracy_score(y_val, predictions)\n",
    "\n",
    "print(\"Accuracy:\", accuracy)\n",
    "print(\"\\nClassification Report:\")\n",
    "print(classification_report(y_val, predictions))"
   ],
   "metadata": {
    "collapsed": false
   }
  },
  {
   "cell_type": "code",
   "execution_count": 102,
   "outputs": [
    {
     "name": "stdout",
     "output_type": "stream",
     "text": [
      "[LightGBM] [Info] Auto-choosing row-wise multi-threading, the overhead of testing was 0.006882 seconds.\n",
      "You can set `force_row_wise=true` to remove the overhead.\n",
      "And if memory is not enough, you can set `force_col_wise=true`.\n",
      "[LightGBM] [Info] Total Bins 1011\n",
      "[LightGBM] [Info] Number of data points in the train set: 382337, number of used features: 8\n",
      "[LightGBM] [Info] Start training from score 51.036426\n",
      "R^2 Score: 0.15567370895016752\n"
     ]
    }
   ],
   "source": [
    "from sklearn.model_selection import train_test_split\n",
    "import lightgbm as lgb\n",
    "from sklearn.metrics import r2_score\n",
    "\n",
    "X_train, X_val, y_train, y_val = train_test_split(filtered[features], filtered[target_age], test_size=0.2, random_state=42)\n",
    "\n",
    "model = lgb.LGBMRegressor()\n",
    "model.fit(X_train, y_train)\n",
    "\n",
    "predictions = model.predict(X_val)\n",
    "\n",
    "r2 = r2_score(y_val, predictions)\n",
    "print(\"R^2 Score:\", r2)"
   ],
   "metadata": {
    "collapsed": false
   }
  },
  {
   "cell_type": "code",
   "execution_count": 104,
   "outputs": [
    {
     "name": "stdout",
     "output_type": "stream",
     "text": [
      "R^2 Score: 0.05026700060475042\n"
     ]
    }
   ],
   "source": [
    "from sklearn.model_selection import train_test_split\n",
    "from sklearn.preprocessing import PolynomialFeatures\n",
    "from sklearn.linear_model import LinearRegression\n",
    "from sklearn.metrics import r2_score\n",
    "\n",
    "# Предположим, что filtered[features] содержит ваши признаки\n",
    "X = filtered[features]\n",
    "y = filtered[target_age]\n",
    "\n",
    "# Разделяем данные на обучающую и тестовую выборки\n",
    "X_train, X_val, y_train, y_val = train_test_split(X, y, test_size=0.2, random_state=42)\n",
    "\n",
    "# Создаем полиномиальные признаки\n",
    "poly = PolynomialFeatures(degree=2)\n",
    "X_train_poly = poly.fit_transform(X_train)\n",
    "X_val_poly = poly.transform(X_val)\n",
    "\n",
    "# Создаем и обучаем модель линейной регрессии\n",
    "model = LinearRegression()\n",
    "model.fit(X_train_poly, y_train)\n",
    "\n",
    "# Прогнозирование на тестовой выборке\n",
    "predictions = model.predict(X_val_poly)\n",
    "\n",
    "# Вычисляем коэффициент детерминации (R^2)\n",
    "r2 = r2_score(y_val, predictions)\n",
    "print(\"R^2 Score:\", r2)"
   ],
   "metadata": {
    "collapsed": false
   }
  },
  {
   "cell_type": "code",
   "execution_count": 103,
   "outputs": [
    {
     "name": "stdout",
     "output_type": "stream",
     "text": [
      "Accuracy for age: 0.03501400540289312\n"
     ]
    },
    {
     "name": "stderr",
     "output_type": "stream",
     "text": [
      "C:\\Users\\Gregory\\PycharmProjects\\vk_hack_local\\venv\\lib\\site-packages\\sklearn\\base.py:1474: DataConversionWarning: A column-vector y was passed when a 1d array was expected. Please change the shape of y to (n_samples,), for example using ravel().\n",
      "  return fit_method(estimator, *args, **kwargs)\n"
     ]
    },
    {
     "name": "stdout",
     "output_type": "stream",
     "text": [
      "Accuracy for gender: 0.6014228173876655\n"
     ]
    }
   ],
   "source": [
    "from sklearn.linear_model import Ridge\n",
    "from sklearn.ensemble import RandomForestClassifier\n",
    "\n",
    "X_age = filtered[features]\n",
    "y_age = filtered[target_age]\n",
    "X_age_train, X_age_test, y_age_train, y_age_test = train_test_split(X_age, y_age, test_size=0.2, random_state=42)\n",
    "\n",
    "ridge_model = Ridge(alpha=1.0)\n",
    "ridge_model.fit(X_age_train, y_age_train)\n",
    "\n",
    "y_age_pred = ridge_model.predict(X_age_test)\n",
    "\n",
    "age_accuracy = ridge_model.score(X_age_test, y_age_test)\n",
    "print(\"Accuracy for age:\", age_accuracy)\n",
    "\n",
    "X_gender = filtered[features]\n",
    "y_gender = filtered[target_gender]\n",
    "X_gender_train, X_gender_test, y_gender_train, y_gender_test = train_test_split(X_gender, y_gender, test_size=0.2, random_state=42)\n",
    "\n",
    "rf_classifier = RandomForestClassifier(n_estimators=10, random_state=42)\n",
    "rf_classifier.fit(X_gender_train, y_gender_train)\n",
    "\n",
    "y_gender_pred = rf_classifier.predict(X_gender_test)\n",
    "\n",
    "gender_accuracy = accuracy_score(y_gender_test, y_gender_pred)\n",
    "print(\"Accuracy for gender:\", gender_accuracy)\n"
   ],
   "metadata": {
    "collapsed": false
   }
  },
  {
   "cell_type": "markdown",
   "id": "20dfa739-f610-4ed0-85ed-c51e5257c2c0",
   "metadata": {},
   "source": [
    "## Убираем за собой\n",
    "\n",
    "В конце работы можем размонтировать директорию:"
   ]
  },
  {
   "cell_type": "code",
   "execution_count": 19,
   "id": "1b0e539a-3fcb-4eaf-a692-0979e7ba2a63",
   "metadata": {
    "tags": []
   },
   "outputs": [
    {
     "name": "stdout",
     "output_type": "stream",
     "text": [
      "umount: /home/datadisk/jupyter-vkhack/vkhack/gender_prediction/mnt: not mounted.\n"
     ]
    }
   ],
   "source": [
    "!umount mnt"
   ]
  }
 ],
 "metadata": {
  "kernelspec": {
   "display_name": "Python 3 (ipykernel)",
   "language": "python",
   "name": "python3"
  },
  "language_info": {
   "codemirror_mode": {
    "name": "ipython",
    "version": 3
   },
   "file_extension": ".py",
   "mimetype": "text/x-python",
   "name": "python",
   "nbconvert_exporter": "python",
   "pygments_lexer": "ipython3",
   "version": "3.9.7"
  }
 },
 "nbformat": 4,
 "nbformat_minor": 5
}
