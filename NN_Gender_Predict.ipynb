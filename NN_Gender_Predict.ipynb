{
  "cells": [
    {
      "cell_type": "markdown",
      "id": "edcd6a96-e2f0-45ea-88d4-0cc11394ab07",
      "metadata": {
        "id": "edcd6a96-e2f0-45ea-88d4-0cc11394ab07"
      },
      "source": [
        "## Предсказание пола/возраста по посещениям сайтов\n",
        "\n",
        "Для начала, подключим хранилище s3, содержащее исходные данные:"
      ]
    },
    {
      "cell_type": "code",
      "execution_count": 1,
      "id": "3ef00818-c3bf-4a01-ab3b-ed96f4ad32f3",
      "metadata": {
        "tags": [],
        "colab": {
          "base_uri": "https://localhost:8080/"
        },
        "id": "3ef00818-c3bf-4a01-ab3b-ed96f4ad32f3",
        "outputId": "59b93631-6157-434b-a84b-a484f35bff31"
      },
      "outputs": [
        {
          "output_type": "stream",
          "name": "stdout",
          "text": [
            "chmod: cannot access '.s3_passwd': No such file or directory\n",
            "/bin/bash: line 1: s3fs: command not found\n"
          ]
        }
      ],
      "source": [
        "!chmod 600 .s3_passwd\n",
        "!mkdir -p mnt\n",
        "!s3fs hsevkhack mnt -o url=http://hb.vkcs.cloud -o use_path_request_style -o passwd_file=.s3_passwd -o ro"
      ]
    },
    {
      "cell_type": "markdown",
      "id": "b18ac963-f688-4263-99dc-5fc0ba5d4225",
      "metadata": {
        "tags": [],
        "id": "b18ac963-f688-4263-99dc-5fc0ba5d4225"
      },
      "source": [
        "Убедимся, что в директории `mnt` содержатся соответствующие таблицы:"
      ]
    },
    {
      "cell_type": "code",
      "execution_count": 4,
      "id": "af0a3a60-6a01-4409-aec2-d891125a2dc2",
      "metadata": {
        "tags": [],
        "id": "af0a3a60-6a01-4409-aec2-d891125a2dc2"
      },
      "outputs": [],
      "source": [
        "!ls mnt/"
      ]
    },
    {
      "cell_type": "markdown",
      "id": "c173c190-dc10-4e36-b5dd-77197e312e08",
      "metadata": {
        "id": "c173c190-dc10-4e36-b5dd-77197e312e08"
      },
      "source": [
        "Если по каким-то причинам директорию смонтировать не удалось, используйте код ниже, чтобы скачать данные к себе в локальное хранилище. В противном случае **пропустите следующую ячейку**."
      ]
    },
    {
      "cell_type": "code",
      "execution_count": 7,
      "id": "5a42c666-ce6f-4827-847d-01c95f50bc62",
      "metadata": {
        "tags": [],
        "colab": {
          "base_uri": "https://localhost:8080/"
        },
        "id": "5a42c666-ce6f-4827-847d-01c95f50bc62",
        "outputId": "2d6518ac-4164-4ee4-c549-8e009ea6ae62"
      },
      "outputs": [
        {
          "output_type": "stream",
          "name": "stdout",
          "text": [
            "--2024-04-20 11:55:43--  https://hsehack.hb.ru-msk.vkcs.cloud/geo_dataframe.csv\n",
            "Resolving hsehack.hb.ru-msk.vkcs.cloud (hsehack.hb.ru-msk.vkcs.cloud)... 95.163.53.117\n",
            "Connecting to hsehack.hb.ru-msk.vkcs.cloud (hsehack.hb.ru-msk.vkcs.cloud)|95.163.53.117|:443... connected.\n",
            "HTTP request sent, awaiting response... 200 OK\n",
            "Length: 63042 (62K) [text/csv]\n",
            "Saving to: ‘data/geo_dataframe.csv.1’\n",
            "\n",
            "geo_dataframe.csv.1 100%[===================>]  61.56K  --.-KB/s    in 0.04s   \n",
            "\n",
            "2024-04-20 11:55:43 (1.51 MB/s) - ‘data/geo_dataframe.csv.1’ saved [63042/63042]\n",
            "\n",
            "--2024-04-20 11:55:43--  https://hsehack.hb.ru-msk.vkcs.cloud/train_users.csv\n",
            "Resolving hsehack.hb.ru-msk.vkcs.cloud (hsehack.hb.ru-msk.vkcs.cloud)... 95.163.53.117\n",
            "Connecting to hsehack.hb.ru-msk.vkcs.cloud (hsehack.hb.ru-msk.vkcs.cloud)|95.163.53.117|:443... connected.\n",
            "HTTP request sent, awaiting response... 200 OK\n",
            "Length: 66826127 (64M) [text/csv]\n",
            "Saving to: ‘data/train_users.csv.1’\n",
            "\n",
            "train_users.csv.1   100%[===================>]  63.73M  44.2MB/s    in 1.4s    \n",
            "\n",
            "2024-04-20 11:55:45 (44.2 MB/s) - ‘data/train_users.csv.1’ saved [66826127/66826127]\n",
            "\n",
            "Downloading part 0...\n",
            "Downloading part 1...\n",
            "Downloading part 2...\n",
            "Downloading part 3...\n",
            "Downloading part 4...\n",
            "Downloading part 5...\n",
            "Downloading part 6...\n",
            "Downloading part 7...\n",
            "Downloading part 8...\n",
            "Downloading part 9...\n",
            "Downloading part 10...\n",
            "Downloading part 11...\n",
            "Downloading part 12...\n",
            "Downloading part 13...\n",
            "Downloading part 14...\n",
            "Downloading part 15...\n",
            "Downloading part 16...\n",
            "Downloading part 17...\n",
            "Downloading part 18...\n",
            "Downloading part 19...\n",
            "Downloading part 20...\n",
            "Downloading part 21...\n",
            "Downloading part 22...\n",
            "Downloading part 23...\n",
            "Downloading part 24...\n",
            "Downloading part 25...\n",
            "Downloading part 26...\n",
            "Downloading part 27...\n",
            "Downloading part 28...\n",
            "Downloading part 29...\n"
          ]
        }
      ],
      "source": [
        "import subprocess\n",
        "!mkdir -p data\n",
        "!wget https://hsehack.hb.ru-msk.vkcs.cloud/geo_dataframe.csv -P data\n",
        "!wget https://hsehack.hb.ru-msk.vkcs.cloud/train_users.csv -P data\n",
        "!mkdir -p data/requests\n",
        "for i in range(30):\n",
        "    print(f\"Downloading part {i}...\")\n",
        "    subprocess.call([\"wget\", f\"https://hsehack.hb.ru-msk.vkcs.cloud/requests/part_{i}.parquet\", \"-q\", \"-P\", \"data/requests\"])"
      ]
    },
    {
      "cell_type": "markdown",
      "id": "91eb607a-d14d-4dda-9dae-6e44e4bc80bf",
      "metadata": {
        "id": "91eb607a-d14d-4dda-9dae-6e44e4bc80bf"
      },
      "source": [
        "## Загружаем данные\n",
        "\n",
        "Используем Pandas для работы с таблицами. `geo_dataframe` содержит данные о геолокации - регионе и стране."
      ]
    },
    {
      "cell_type": "code",
      "execution_count": 8,
      "id": "807c3f20-c421-4a7b-9314-ec9112984948",
      "metadata": {
        "tags": [],
        "colab": {
          "base_uri": "https://localhost:8080/",
          "height": 413
        },
        "id": "807c3f20-c421-4a7b-9314-ec9112984948",
        "outputId": "e4d2a699-ffff-4620-95ab-c9bb2303b278"
      },
      "outputs": [
        {
          "output_type": "execute_result",
          "data": {
            "text/plain": [
              "      geo_id  region_id  country_id\n",
              "0          1        157          40\n",
              "1          2        161          40\n",
              "2          3        265          54\n",
              "3          4        122          54\n",
              "4          5         78          40\n",
              "...      ...        ...         ...\n",
              "5528    5529        246          54\n",
              "5529    5530         -1          63\n",
              "5530    5531        101          40\n",
              "5531    5532         21          68\n",
              "5532    5533         58          40\n",
              "\n",
              "[5533 rows x 3 columns]"
            ],
            "text/html": [
              "\n",
              "  <div id=\"df-e99c6074-b34f-475b-96ee-624d88121fc8\" class=\"colab-df-container\">\n",
              "    <div>\n",
              "<style scoped>\n",
              "    .dataframe tbody tr th:only-of-type {\n",
              "        vertical-align: middle;\n",
              "    }\n",
              "\n",
              "    .dataframe tbody tr th {\n",
              "        vertical-align: top;\n",
              "    }\n",
              "\n",
              "    .dataframe thead th {\n",
              "        text-align: right;\n",
              "    }\n",
              "</style>\n",
              "<table border=\"1\" class=\"dataframe\">\n",
              "  <thead>\n",
              "    <tr style=\"text-align: right;\">\n",
              "      <th></th>\n",
              "      <th>geo_id</th>\n",
              "      <th>region_id</th>\n",
              "      <th>country_id</th>\n",
              "    </tr>\n",
              "  </thead>\n",
              "  <tbody>\n",
              "    <tr>\n",
              "      <th>0</th>\n",
              "      <td>1</td>\n",
              "      <td>157</td>\n",
              "      <td>40</td>\n",
              "    </tr>\n",
              "    <tr>\n",
              "      <th>1</th>\n",
              "      <td>2</td>\n",
              "      <td>161</td>\n",
              "      <td>40</td>\n",
              "    </tr>\n",
              "    <tr>\n",
              "      <th>2</th>\n",
              "      <td>3</td>\n",
              "      <td>265</td>\n",
              "      <td>54</td>\n",
              "    </tr>\n",
              "    <tr>\n",
              "      <th>3</th>\n",
              "      <td>4</td>\n",
              "      <td>122</td>\n",
              "      <td>54</td>\n",
              "    </tr>\n",
              "    <tr>\n",
              "      <th>4</th>\n",
              "      <td>5</td>\n",
              "      <td>78</td>\n",
              "      <td>40</td>\n",
              "    </tr>\n",
              "    <tr>\n",
              "      <th>...</th>\n",
              "      <td>...</td>\n",
              "      <td>...</td>\n",
              "      <td>...</td>\n",
              "    </tr>\n",
              "    <tr>\n",
              "      <th>5528</th>\n",
              "      <td>5529</td>\n",
              "      <td>246</td>\n",
              "      <td>54</td>\n",
              "    </tr>\n",
              "    <tr>\n",
              "      <th>5529</th>\n",
              "      <td>5530</td>\n",
              "      <td>-1</td>\n",
              "      <td>63</td>\n",
              "    </tr>\n",
              "    <tr>\n",
              "      <th>5530</th>\n",
              "      <td>5531</td>\n",
              "      <td>101</td>\n",
              "      <td>40</td>\n",
              "    </tr>\n",
              "    <tr>\n",
              "      <th>5531</th>\n",
              "      <td>5532</td>\n",
              "      <td>21</td>\n",
              "      <td>68</td>\n",
              "    </tr>\n",
              "    <tr>\n",
              "      <th>5532</th>\n",
              "      <td>5533</td>\n",
              "      <td>58</td>\n",
              "      <td>40</td>\n",
              "    </tr>\n",
              "  </tbody>\n",
              "</table>\n",
              "<p>5533 rows × 3 columns</p>\n",
              "</div>\n",
              "    <div class=\"colab-df-buttons\">\n",
              "\n",
              "  <div class=\"colab-df-container\">\n",
              "    <button class=\"colab-df-convert\" onclick=\"convertToInteractive('df-e99c6074-b34f-475b-96ee-624d88121fc8')\"\n",
              "            title=\"Convert this dataframe to an interactive table.\"\n",
              "            style=\"display:none;\">\n",
              "\n",
              "  <svg xmlns=\"http://www.w3.org/2000/svg\" height=\"24px\" viewBox=\"0 -960 960 960\">\n",
              "    <path d=\"M120-120v-720h720v720H120Zm60-500h600v-160H180v160Zm220 220h160v-160H400v160Zm0 220h160v-160H400v160ZM180-400h160v-160H180v160Zm440 0h160v-160H620v160ZM180-180h160v-160H180v160Zm440 0h160v-160H620v160Z\"/>\n",
              "  </svg>\n",
              "    </button>\n",
              "\n",
              "  <style>\n",
              "    .colab-df-container {\n",
              "      display:flex;\n",
              "      gap: 12px;\n",
              "    }\n",
              "\n",
              "    .colab-df-convert {\n",
              "      background-color: #E8F0FE;\n",
              "      border: none;\n",
              "      border-radius: 50%;\n",
              "      cursor: pointer;\n",
              "      display: none;\n",
              "      fill: #1967D2;\n",
              "      height: 32px;\n",
              "      padding: 0 0 0 0;\n",
              "      width: 32px;\n",
              "    }\n",
              "\n",
              "    .colab-df-convert:hover {\n",
              "      background-color: #E2EBFA;\n",
              "      box-shadow: 0px 1px 2px rgba(60, 64, 67, 0.3), 0px 1px 3px 1px rgba(60, 64, 67, 0.15);\n",
              "      fill: #174EA6;\n",
              "    }\n",
              "\n",
              "    .colab-df-buttons div {\n",
              "      margin-bottom: 4px;\n",
              "    }\n",
              "\n",
              "    [theme=dark] .colab-df-convert {\n",
              "      background-color: #3B4455;\n",
              "      fill: #D2E3FC;\n",
              "    }\n",
              "\n",
              "    [theme=dark] .colab-df-convert:hover {\n",
              "      background-color: #434B5C;\n",
              "      box-shadow: 0px 1px 3px 1px rgba(0, 0, 0, 0.15);\n",
              "      filter: drop-shadow(0px 1px 2px rgba(0, 0, 0, 0.3));\n",
              "      fill: #FFFFFF;\n",
              "    }\n",
              "  </style>\n",
              "\n",
              "    <script>\n",
              "      const buttonEl =\n",
              "        document.querySelector('#df-e99c6074-b34f-475b-96ee-624d88121fc8 button.colab-df-convert');\n",
              "      buttonEl.style.display =\n",
              "        google.colab.kernel.accessAllowed ? 'block' : 'none';\n",
              "\n",
              "      async function convertToInteractive(key) {\n",
              "        const element = document.querySelector('#df-e99c6074-b34f-475b-96ee-624d88121fc8');\n",
              "        const dataTable =\n",
              "          await google.colab.kernel.invokeFunction('convertToInteractive',\n",
              "                                                    [key], {});\n",
              "        if (!dataTable) return;\n",
              "\n",
              "        const docLinkHtml = 'Like what you see? Visit the ' +\n",
              "          '<a target=\"_blank\" href=https://colab.research.google.com/notebooks/data_table.ipynb>data table notebook</a>'\n",
              "          + ' to learn more about interactive tables.';\n",
              "        element.innerHTML = '';\n",
              "        dataTable['output_type'] = 'display_data';\n",
              "        await google.colab.output.renderOutput(dataTable, element);\n",
              "        const docLink = document.createElement('div');\n",
              "        docLink.innerHTML = docLinkHtml;\n",
              "        element.appendChild(docLink);\n",
              "      }\n",
              "    </script>\n",
              "  </div>\n",
              "\n",
              "\n",
              "<div id=\"df-b97d569f-9eba-4ca9-b172-5d208fb35260\">\n",
              "  <button class=\"colab-df-quickchart\" onclick=\"quickchart('df-b97d569f-9eba-4ca9-b172-5d208fb35260')\"\n",
              "            title=\"Suggest charts\"\n",
              "            style=\"display:none;\">\n",
              "\n",
              "<svg xmlns=\"http://www.w3.org/2000/svg\" height=\"24px\"viewBox=\"0 0 24 24\"\n",
              "     width=\"24px\">\n",
              "    <g>\n",
              "        <path d=\"M19 3H5c-1.1 0-2 .9-2 2v14c0 1.1.9 2 2 2h14c1.1 0 2-.9 2-2V5c0-1.1-.9-2-2-2zM9 17H7v-7h2v7zm4 0h-2V7h2v10zm4 0h-2v-4h2v4z\"/>\n",
              "    </g>\n",
              "</svg>\n",
              "  </button>\n",
              "\n",
              "<style>\n",
              "  .colab-df-quickchart {\n",
              "      --bg-color: #E8F0FE;\n",
              "      --fill-color: #1967D2;\n",
              "      --hover-bg-color: #E2EBFA;\n",
              "      --hover-fill-color: #174EA6;\n",
              "      --disabled-fill-color: #AAA;\n",
              "      --disabled-bg-color: #DDD;\n",
              "  }\n",
              "\n",
              "  [theme=dark] .colab-df-quickchart {\n",
              "      --bg-color: #3B4455;\n",
              "      --fill-color: #D2E3FC;\n",
              "      --hover-bg-color: #434B5C;\n",
              "      --hover-fill-color: #FFFFFF;\n",
              "      --disabled-bg-color: #3B4455;\n",
              "      --disabled-fill-color: #666;\n",
              "  }\n",
              "\n",
              "  .colab-df-quickchart {\n",
              "    background-color: var(--bg-color);\n",
              "    border: none;\n",
              "    border-radius: 50%;\n",
              "    cursor: pointer;\n",
              "    display: none;\n",
              "    fill: var(--fill-color);\n",
              "    height: 32px;\n",
              "    padding: 0;\n",
              "    width: 32px;\n",
              "  }\n",
              "\n",
              "  .colab-df-quickchart:hover {\n",
              "    background-color: var(--hover-bg-color);\n",
              "    box-shadow: 0 1px 2px rgba(60, 64, 67, 0.3), 0 1px 3px 1px rgba(60, 64, 67, 0.15);\n",
              "    fill: var(--button-hover-fill-color);\n",
              "  }\n",
              "\n",
              "  .colab-df-quickchart-complete:disabled,\n",
              "  .colab-df-quickchart-complete:disabled:hover {\n",
              "    background-color: var(--disabled-bg-color);\n",
              "    fill: var(--disabled-fill-color);\n",
              "    box-shadow: none;\n",
              "  }\n",
              "\n",
              "  .colab-df-spinner {\n",
              "    border: 2px solid var(--fill-color);\n",
              "    border-color: transparent;\n",
              "    border-bottom-color: var(--fill-color);\n",
              "    animation:\n",
              "      spin 1s steps(1) infinite;\n",
              "  }\n",
              "\n",
              "  @keyframes spin {\n",
              "    0% {\n",
              "      border-color: transparent;\n",
              "      border-bottom-color: var(--fill-color);\n",
              "      border-left-color: var(--fill-color);\n",
              "    }\n",
              "    20% {\n",
              "      border-color: transparent;\n",
              "      border-left-color: var(--fill-color);\n",
              "      border-top-color: var(--fill-color);\n",
              "    }\n",
              "    30% {\n",
              "      border-color: transparent;\n",
              "      border-left-color: var(--fill-color);\n",
              "      border-top-color: var(--fill-color);\n",
              "      border-right-color: var(--fill-color);\n",
              "    }\n",
              "    40% {\n",
              "      border-color: transparent;\n",
              "      border-right-color: var(--fill-color);\n",
              "      border-top-color: var(--fill-color);\n",
              "    }\n",
              "    60% {\n",
              "      border-color: transparent;\n",
              "      border-right-color: var(--fill-color);\n",
              "    }\n",
              "    80% {\n",
              "      border-color: transparent;\n",
              "      border-right-color: var(--fill-color);\n",
              "      border-bottom-color: var(--fill-color);\n",
              "    }\n",
              "    90% {\n",
              "      border-color: transparent;\n",
              "      border-bottom-color: var(--fill-color);\n",
              "    }\n",
              "  }\n",
              "</style>\n",
              "\n",
              "  <script>\n",
              "    async function quickchart(key) {\n",
              "      const quickchartButtonEl =\n",
              "        document.querySelector('#' + key + ' button');\n",
              "      quickchartButtonEl.disabled = true;  // To prevent multiple clicks.\n",
              "      quickchartButtonEl.classList.add('colab-df-spinner');\n",
              "      try {\n",
              "        const charts = await google.colab.kernel.invokeFunction(\n",
              "            'suggestCharts', [key], {});\n",
              "      } catch (error) {\n",
              "        console.error('Error during call to suggestCharts:', error);\n",
              "      }\n",
              "      quickchartButtonEl.classList.remove('colab-df-spinner');\n",
              "      quickchartButtonEl.classList.add('colab-df-quickchart-complete');\n",
              "    }\n",
              "    (() => {\n",
              "      let quickchartButtonEl =\n",
              "        document.querySelector('#df-b97d569f-9eba-4ca9-b172-5d208fb35260 button');\n",
              "      quickchartButtonEl.style.display =\n",
              "        google.colab.kernel.accessAllowed ? 'block' : 'none';\n",
              "    })();\n",
              "  </script>\n",
              "</div>\n",
              "    </div>\n",
              "  </div>\n"
            ],
            "application/vnd.google.colaboratory.intrinsic+json": {
              "type": "dataframe",
              "variable_name": "geo",
              "summary": "{\n  \"name\": \"geo\",\n  \"rows\": 5533,\n  \"fields\": [\n    {\n      \"column\": \"geo_id\",\n      \"properties\": {\n        \"dtype\": \"number\",\n        \"std\": 1597,\n        \"min\": 1,\n        \"max\": 5533,\n        \"num_unique_values\": 5533,\n        \"samples\": [\n          3376,\n          4853,\n          1821\n        ],\n        \"semantic_type\": \"\",\n        \"description\": \"\"\n      }\n    },\n    {\n      \"column\": \"region_id\",\n      \"properties\": {\n        \"dtype\": \"number\",\n        \"std\": 93,\n        \"min\": -1,\n        \"max\": 277,\n        \"num_unique_values\": 278,\n        \"samples\": [\n          11,\n          86,\n          80\n        ],\n        \"semantic_type\": \"\",\n        \"description\": \"\"\n      }\n    },\n    {\n      \"column\": \"country_id\",\n      \"properties\": {\n        \"dtype\": \"number\",\n        \"std\": 47,\n        \"min\": 1,\n        \"max\": 203,\n        \"num_unique_values\": 203,\n        \"samples\": [\n          79,\n          123,\n          6\n        ],\n        \"semantic_type\": \"\",\n        \"description\": \"\"\n      }\n    }\n  ]\n}"
            }
          },
          "metadata": {},
          "execution_count": 8
        }
      ],
      "source": [
        "import pandas as pd\n",
        "\n",
        "geo = pd.read_csv('data/geo_dataframe.csv')\n",
        "geo"
      ]
    },
    {
      "source": [
        "# @title region_id\n",
        "\n",
        "from matplotlib import pyplot as plt\n",
        "geo['region_id'].plot(kind='hist', bins=20, title='region_id')\n",
        "plt.gca().spines[['top', 'right',]].set_visible(False)"
      ],
      "cell_type": "code",
      "execution_count": 9,
      "outputs": [
        {
          "output_type": "display_data",
          "data": {
            "text/plain": [
              "<Figure size 640x480 with 1 Axes>"
            ],
            "image/png": "[encoded data removed]"
          },
          "metadata": {}
        }
      ],
      "metadata": {
        "cellView": "form",
        "colab": {
          "base_uri": "https://localhost:8080/",
          "height": 453
        },
        "id": "gAZ_t77AYxJl",
        "outputId": "44258ef3-0a75-4d69-d7dd-924a03d4948a"
      },
      "id": "gAZ_t77AYxJl"
    },
    {
      "cell_type": "markdown",
      "id": "72b5ecce-e866-4e01-a2dd-1d26cd7452d9",
      "metadata": {
        "id": "72b5ecce-e866-4e01-a2dd-1d26cd7452d9"
      },
      "source": [
        "Таблица `train_users` - это ваша обучающая выборка, содержащая пол и возраст пользователей. Аналогичная таблица для тестового датасета будет вам предоставлена за час до stop coding."
      ]
    },
    {
      "cell_type": "code",
      "execution_count": 11,
      "id": "d985e0cf-3d53-41d7-a004-2d081cb6573d",
      "metadata": {
        "tags": [],
        "colab": {
          "base_uri": "https://localhost:8080/",
          "height": 413
        },
        "id": "d985e0cf-3d53-41d7-a004-2d081cb6573d",
        "outputId": "7b74da02-4d7b-4ec7-fa51-f5ac9eba3628"
      },
      "outputs": [
        {
          "output_type": "execute_result",
          "data": {
            "text/plain": [
              "          user_id  gender  age\n",
              "0               2       1   61\n",
              "1               3       1   55\n",
              "2               6       0   46\n",
              "3              14       0   66\n",
              "4              17       0   53\n",
              "...           ...     ...  ...\n",
              "4999995  17588859       1   64\n",
              "4999996  17588860       0   69\n",
              "4999997  17588861       1   51\n",
              "4999998  17588864       0   30\n",
              "4999999  17588865       0   38\n",
              "\n",
              "[5000000 rows x 3 columns]"
            ],
            "text/html": [
              "\n",
              "  <div id=\"df-826e7505-88fb-44a6-8baf-156c97bb116b\" class=\"colab-df-container\">\n",
              "    <div>\n",
              "<style scoped>\n",
              "    .dataframe tbody tr th:only-of-type {\n",
              "        vertical-align: middle;\n",
              "    }\n",
              "\n",
              "    .dataframe tbody tr th {\n",
              "        vertical-align: top;\n",
              "    }\n",
              "\n",
              "    .dataframe thead th {\n",
              "        text-align: right;\n",
              "    }\n",
              "</style>\n",
              "<table border=\"1\" class=\"dataframe\">\n",
              "  <thead>\n",
              "    <tr style=\"text-align: right;\">\n",
              "      <th></th>\n",
              "      <th>user_id</th>\n",
              "      <th>gender</th>\n",
              "      <th>age</th>\n",
              "    </tr>\n",
              "  </thead>\n",
              "  <tbody>\n",
              "    <tr>\n",
              "      <th>0</th>\n",
              "      <td>2</td>\n",
              "      <td>1</td>\n",
              "      <td>61</td>\n",
              "    </tr>\n",
              "    <tr>\n",
              "      <th>1</th>\n",
              "      <td>3</td>\n",
              "      <td>1</td>\n",
              "      <td>55</td>\n",
              "    </tr>\n",
              "    <tr>\n",
              "      <th>2</th>\n",
              "      <td>6</td>\n",
              "      <td>0</td>\n",
              "      <td>46</td>\n",
              "    </tr>\n",
              "    <tr>\n",
              "      <th>3</th>\n",
              "      <td>14</td>\n",
              "      <td>0</td>\n",
              "      <td>66</td>\n",
              "    </tr>\n",
              "    <tr>\n",
              "      <th>4</th>\n",
              "      <td>17</td>\n",
              "      <td>0</td>\n",
              "      <td>53</td>\n",
              "    </tr>\n",
              "    <tr>\n",
              "      <th>...</th>\n",
              "      <td>...</td>\n",
              "      <td>...</td>\n",
              "      <td>...</td>\n",
              "    </tr>\n",
              "    <tr>\n",
              "      <th>4999995</th>\n",
              "      <td>17588859</td>\n",
              "      <td>1</td>\n",
              "      <td>64</td>\n",
              "    </tr>\n",
              "    <tr>\n",
              "      <th>4999996</th>\n",
              "      <td>17588860</td>\n",
              "      <td>0</td>\n",
              "      <td>69</td>\n",
              "    </tr>\n",
              "    <tr>\n",
              "      <th>4999997</th>\n",
              "      <td>17588861</td>\n",
              "      <td>1</td>\n",
              "      <td>51</td>\n",
              "    </tr>\n",
              "    <tr>\n",
              "      <th>4999998</th>\n",
              "      <td>17588864</td>\n",
              "      <td>0</td>\n",
              "      <td>30</td>\n",
              "    </tr>\n",
              "    <tr>\n",
              "      <th>4999999</th>\n",
              "      <td>17588865</td>\n",
              "      <td>0</td>\n",
              "      <td>38</td>\n",
              "    </tr>\n",
              "  </tbody>\n",
              "</table>\n",
              "<p>5000000 rows × 3 columns</p>\n",
              "</div>\n",
              "    <div class=\"colab-df-buttons\">\n",
              "\n",
              "  <div class=\"colab-df-container\">\n",
              "    <button class=\"colab-df-convert\" onclick=\"convertToInteractive('df-826e7505-88fb-44a6-8baf-156c97bb116b')\"\n",
              "            title=\"Convert this dataframe to an interactive table.\"\n",
              "            style=\"display:none;\">\n",
              "\n",
              "  <svg xmlns=\"http://www.w3.org/2000/svg\" height=\"24px\" viewBox=\"0 -960 960 960\">\n",
              "    <path d=\"M120-120v-720h720v720H120Zm60-500h600v-160H180v160Zm220 220h160v-160H400v160Zm0 220h160v-160H400v160ZM180-400h160v-160H180v160Zm440 0h160v-160H620v160ZM180-180h160v-160H180v160Zm440 0h160v-160H620v160Z\"/>\n",
              "  </svg>\n",
              "    </button>\n",
              "\n",
              "  <style>\n",
              "    .colab-df-container {\n",
              "      display:flex;\n",
              "      gap: 12px;\n",
              "    }\n",
              "\n",
              "    .colab-df-convert {\n",
              "      background-color: #E8F0FE;\n",
              "      border: none;\n",
              "      border-radius: 50%;\n",
              "      cursor: pointer;\n",
              "      display: none;\n",
              "      fill: #1967D2;\n",
              "      height: 32px;\n",
              "      padding: 0 0 0 0;\n",
              "      width: 32px;\n",
              "    }\n",
              "\n",
              "    .colab-df-convert:hover {\n",
              "      background-color: #E2EBFA;\n",
              "      box-shadow: 0px 1px 2px rgba(60, 64, 67, 0.3), 0px 1px 3px 1px rgba(60, 64, 67, 0.15);\n",
              "      fill: #174EA6;\n",
              "    }\n",
              "\n",
              "    .colab-df-buttons div {\n",
              "      margin-bottom: 4px;\n",
              "    }\n",
              "\n",
              "    [theme=dark] .colab-df-convert {\n",
              "      background-color: #3B4455;\n",
              "      fill: #D2E3FC;\n",
              "    }\n",
              "\n",
              "    [theme=dark] .colab-df-convert:hover {\n",
              "      background-color: #434B5C;\n",
              "      box-shadow: 0px 1px 3px 1px rgba(0, 0, 0, 0.15);\n",
              "      filter: drop-shadow(0px 1px 2px rgba(0, 0, 0, 0.3));\n",
              "      fill: #FFFFFF;\n",
              "    }\n",
              "  </style>\n",
              "\n",
              "    <script>\n",
              "      const buttonEl =\n",
              "        document.querySelector('#df-826e7505-88fb-44a6-8baf-156c97bb116b button.colab-df-convert');\n",
              "      buttonEl.style.display =\n",
              "        google.colab.kernel.accessAllowed ? 'block' : 'none';\n",
              "\n",
              "      async function convertToInteractive(key) {\n",
              "        const element = document.querySelector('#df-826e7505-88fb-44a6-8baf-156c97bb116b');\n",
              "        const dataTable =\n",
              "          await google.colab.kernel.invokeFunction('convertToInteractive',\n",
              "                                                    [key], {});\n",
              "        if (!dataTable) return;\n",
              "\n",
              "        const docLinkHtml = 'Like what you see? Visit the ' +\n",
              "          '<a target=\"_blank\" href=https://colab.research.google.com/notebooks/data_table.ipynb>data table notebook</a>'\n",
              "          + ' to learn more about interactive tables.';\n",
              "        element.innerHTML = '';\n",
              "        dataTable['output_type'] = 'display_data';\n",
              "        await google.colab.output.renderOutput(dataTable, element);\n",
              "        const docLink = document.createElement('div');\n",
              "        docLink.innerHTML = docLinkHtml;\n",
              "        element.appendChild(docLink);\n",
              "      }\n",
              "    </script>\n",
              "  </div>\n",
              "\n",
              "\n",
              "<div id=\"df-a237e143-1567-445a-b217-1152a4bd4204\">\n",
              "  <button class=\"colab-df-quickchart\" onclick=\"quickchart('df-a237e143-1567-445a-b217-1152a4bd4204')\"\n",
              "            title=\"Suggest charts\"\n",
              "            style=\"display:none;\">\n",
              "\n",
              "<svg xmlns=\"http://www.w3.org/2000/svg\" height=\"24px\"viewBox=\"0 0 24 24\"\n",
              "     width=\"24px\">\n",
              "    <g>\n",
              "        <path d=\"M19 3H5c-1.1 0-2 .9-2 2v14c0 1.1.9 2 2 2h14c1.1 0 2-.9 2-2V5c0-1.1-.9-2-2-2zM9 17H7v-7h2v7zm4 0h-2V7h2v10zm4 0h-2v-4h2v4z\"/>\n",
              "    </g>\n",
              "</svg>\n",
              "  </button>\n",
              "\n",
              "<style>\n",
              "  .colab-df-quickchart {\n",
              "      --bg-color: #E8F0FE;\n",
              "      --fill-color: #1967D2;\n",
              "      --hover-bg-color: #E2EBFA;\n",
              "      --hover-fill-color: #174EA6;\n",
              "      --disabled-fill-color: #AAA;\n",
              "      --disabled-bg-color: #DDD;\n",
              "  }\n",
              "\n",
              "  [theme=dark] .colab-df-quickchart {\n",
              "      --bg-color: #3B4455;\n",
              "      --fill-color: #D2E3FC;\n",
              "      --hover-bg-color: #434B5C;\n",
              "      --hover-fill-color: #FFFFFF;\n",
              "      --disabled-bg-color: #3B4455;\n",
              "      --disabled-fill-color: #666;\n",
              "  }\n",
              "\n",
              "  .colab-df-quickchart {\n",
              "    background-color: var(--bg-color);\n",
              "    border: none;\n",
              "    border-radius: 50%;\n",
              "    cursor: pointer;\n",
              "    display: none;\n",
              "    fill: var(--fill-color);\n",
              "    height: 32px;\n",
              "    padding: 0;\n",
              "    width: 32px;\n",
              "  }\n",
              "\n",
              "  .colab-df-quickchart:hover {\n",
              "    background-color: var(--hover-bg-color);\n",
              "    box-shadow: 0 1px 2px rgba(60, 64, 67, 0.3), 0 1px 3px 1px rgba(60, 64, 67, 0.15);\n",
              "    fill: var(--button-hover-fill-color);\n",
              "  }\n",
              "\n",
              "  .colab-df-quickchart-complete:disabled,\n",
              "  .colab-df-quickchart-complete:disabled:hover {\n",
              "    background-color: var(--disabled-bg-color);\n",
              "    fill: var(--disabled-fill-color);\n",
              "    box-shadow: none;\n",
              "  }\n",
              "\n",
              "  .colab-df-spinner {\n",
              "    border: 2px solid var(--fill-color);\n",
              "    border-color: transparent;\n",
              "    border-bottom-color: var(--fill-color);\n",
              "    animation:\n",
              "      spin 1s steps(1) infinite;\n",
              "  }\n",
              "\n",
              "  @keyframes spin {\n",
              "    0% {\n",
              "      border-color: transparent;\n",
              "      border-bottom-color: var(--fill-color);\n",
              "      border-left-color: var(--fill-color);\n",
              "    }\n",
              "    20% {\n",
              "      border-color: transparent;\n",
              "      border-left-color: var(--fill-color);\n",
              "      border-top-color: var(--fill-color);\n",
              "    }\n",
              "    30% {\n",
              "      border-color: transparent;\n",
              "      border-left-color: var(--fill-color);\n",
              "      border-top-color: var(--fill-color);\n",
              "      border-right-color: var(--fill-color);\n",
              "    }\n",
              "    40% {\n",
              "      border-color: transparent;\n",
              "      border-right-color: var(--fill-color);\n",
              "      border-top-color: var(--fill-color);\n",
              "    }\n",
              "    60% {\n",
              "      border-color: transparent;\n",
              "      border-right-color: var(--fill-color);\n",
              "    }\n",
              "    80% {\n",
              "      border-color: transparent;\n",
              "      border-right-color: var(--fill-color);\n",
              "      border-bottom-color: var(--fill-color);\n",
              "    }\n",
              "    90% {\n",
              "      border-color: transparent;\n",
              "      border-bottom-color: var(--fill-color);\n",
              "    }\n",
              "  }\n",
              "</style>\n",
              "\n",
              "  <script>\n",
              "    async function quickchart(key) {\n",
              "      const quickchartButtonEl =\n",
              "        document.querySelector('#' + key + ' button');\n",
              "      quickchartButtonEl.disabled = true;  // To prevent multiple clicks.\n",
              "      quickchartButtonEl.classList.add('colab-df-spinner');\n",
              "      try {\n",
              "        const charts = await google.colab.kernel.invokeFunction(\n",
              "            'suggestCharts', [key], {});\n",
              "      } catch (error) {\n",
              "        console.error('Error during call to suggestCharts:', error);\n",
              "      }\n",
              "      quickchartButtonEl.classList.remove('colab-df-spinner');\n",
              "      quickchartButtonEl.classList.add('colab-df-quickchart-complete');\n",
              "    }\n",
              "    (() => {\n",
              "      let quickchartButtonEl =\n",
              "        document.querySelector('#df-a237e143-1567-445a-b217-1152a4bd4204 button');\n",
              "      quickchartButtonEl.style.display =\n",
              "        google.colab.kernel.accessAllowed ? 'block' : 'none';\n",
              "    })();\n",
              "  </script>\n",
              "</div>\n",
              "    </div>\n",
              "  </div>\n"
            ],
            "application/vnd.google.colaboratory.intrinsic+json": {
              "type": "dataframe",
              "variable_name": "users"
            }
          },
          "metadata": {},
          "execution_count": 11
        }
      ],
      "source": [
        "users = pd.read_csv('data/train_users.csv')\n",
        "users"
      ]
    },
    {
      "cell_type": "markdown",
      "id": "45812919-7ca9-4a01-8067-2a3d9ee2c96f",
      "metadata": {
        "tags": [],
        "id": "45812919-7ca9-4a01-8067-2a3d9ee2c96f"
      },
      "source": [
        "Для примера - вот распределение пользователей по полу:"
      ]
    },
    {
      "cell_type": "code",
      "execution_count": null,
      "id": "f2b0c5ce-cc19-463c-813b-7372f6b6a2df",
      "metadata": {
        "tags": [],
        "id": "f2b0c5ce-cc19-463c-813b-7372f6b6a2df",
        "outputId": "da7a47fe-463e-476b-d3ac-c19b8a6de4de"
      },
      "outputs": [
        {
          "data": {
            "text/plain": [
              "<AxesSubplot: xlabel='gender'>"
            ]
          },
          "execution_count": 20,
          "metadata": {},
          "output_type": "execute_result"
        },
        {
          "data": {
            "image/png": "[encoded data removed]",
            "text/plain": [
              "<Figure size 640x480 with 1 Axes>"
            ]
          },
          "metadata": {},
          "output_type": "display_data"
        }
      ],
      "source": [
        "users.groupby('gender').agg({ 'user_id' : len }).plot.bar()"
      ]
    },
    {
      "cell_type": "markdown",
      "id": "095a63d9-9ed2-40da-9206-26a9a6c71489",
      "metadata": {
        "id": "095a63d9-9ed2-40da-9206-26a9a6c71489"
      },
      "source": [
        "Основные данные о посещениях пользователями сайтов содержатся в табличке `requests`, представленной в формате parquet. Вы можете загрузить только одну часть таблички, или же всю таблицу, если она поместиться в памяти:"
      ]
    },
    {
      "cell_type": "code",
      "execution_count": 17,
      "id": "9e14f322-ec99-4c14-8e1a-ec373f767a9e",
      "metadata": {
        "tags": [],
        "colab": {
          "base_uri": "https://localhost:8080/",
          "height": 53
        },
        "id": "9e14f322-ec99-4c14-8e1a-ec373f767a9e",
        "outputId": "04d112c0-e42b-40b8-943d-9a907ba8760b"
      },
      "outputs": [
        {
          "output_type": "execute_result",
          "data": {
            "text/plain": [
              "'Mozilla/5.0 (Linux; Android 10; K) AppleWebKit/537.36 (KHTML, like Gecko) Chrome/123.0.0.0 Mobile Safari/537.36'"
            ],
            "application/vnd.google.colaboratory.intrinsic+json": {
              "type": "string"
            }
          },
          "metadata": {},
          "execution_count": 17
        }
      ],
      "source": [
        "req1 = pd.read_parquet('data/requests/part_1.parquet')\n",
        "req1[\"user_agent\"]"
      ]
    },
    {
      "cell_type": "markdown",
      "id": "9e5882f5-ea2b-489d-8e71-a68e15038ae7",
      "metadata": {
        "id": "9e5882f5-ea2b-489d-8e71-a68e15038ae7"
      },
      "source": [
        "## Дерзайте!\n",
        "\n",
        "Вам необходимо построить предсказательную модель для прогнозирования пола и возраста пользователей по их посещениям. Таблица с тестовыми пользователями будет предоставлена вам за час до stop coding.\n",
        "\n",
        "ВАЖНО:\n",
        "* Таблицу с тестовыми данными нельзя использовать для обучения модели. Если жюри увидит, что вы использовали табличку с тестовыми данными - точность модели будет оцениваться в 0 баллов.\n",
        "* В ходе выступления необходимо продемонстрировать точность модели на тестовых данных."
      ]
    },
    {
      "cell_type": "code",
      "execution_count": 14,
      "id": "406b5898-df6a-492f-af62-9323723a9672",
      "metadata": {
        "colab": {
          "base_uri": "https://localhost:8080/"
        },
        "id": "406b5898-df6a-492f-af62-9323723a9672",
        "outputId": "2696b8ba-ae46-447c-adc6-bed181406365"
      },
      "outputs": [
        {
          "output_type": "stream",
          "name": "stdout",
          "text": [
            "Requirement already satisfied: torch in /usr/local/lib/python3.10/dist-packages (2.2.1+cu121)\n",
            "Requirement already satisfied: filelock in /usr/local/lib/python3.10/dist-packages (from torch) (3.13.4)\n",
            "Requirement already satisfied: typing-extensions>=4.8.0 in /usr/local/lib/python3.10/dist-packages (from torch) (4.11.0)\n",
            "Requirement already satisfied: sympy in /usr/local/lib/python3.10/dist-packages (from torch) (1.12)\n",
            "Requirement already satisfied: networkx in /usr/local/lib/python3.10/dist-packages (from torch) (3.3)\n",
            "Requirement already satisfied: jinja2 in /usr/local/lib/python3.10/dist-packages (from torch) (3.1.3)\n",
            "Requirement already satisfied: fsspec in /usr/local/lib/python3.10/dist-packages (from torch) (2023.6.0)\n",
            "Collecting nvidia-cuda-nvrtc-cu12==12.1.105 (from torch)\n",
            "  Using cached nvidia_cuda_nvrtc_cu12-12.1.105-py3-none-manylinux1_x86_64.whl (23.7 MB)\n",
            "Collecting nvidia-cuda-runtime-cu12==12.1.105 (from torch)\n",
            "  Using cached nvidia_cuda_runtime_cu12-12.1.105-py3-none-manylinux1_x86_64.whl (823 kB)\n",
            "Collecting nvidia-cuda-cupti-cu12==12.1.105 (from torch)\n",
            "  Using cached nvidia_cuda_cupti_cu12-12.1.105-py3-none-manylinux1_x86_64.whl (14.1 MB)\n",
            "Collecting nvidia-cudnn-cu12==8.9.2.26 (from torch)\n",
            "  Using cached nvidia_cudnn_cu12-8.9.2.26-py3-none-manylinux1_x86_64.whl (731.7 MB)\n",
            "Collecting nvidia-cublas-cu12==12.1.3.1 (from torch)\n",
            "  Using cached nvidia_cublas_cu12-12.1.3.1-py3-none-manylinux1_x86_64.whl (410.6 MB)\n",
            "Collecting nvidia-cufft-cu12==11.0.2.54 (from torch)\n",
            "  Using cached nvidia_cufft_cu12-11.0.2.54-py3-none-manylinux1_x86_64.whl (121.6 MB)\n",
            "Collecting nvidia-curand-cu12==10.3.2.106 (from torch)\n",
            "  Using cached nvidia_curand_cu12-10.3.2.106-py3-none-manylinux1_x86_64.whl (56.5 MB)\n",
            "Collecting nvidia-cusolver-cu12==11.4.5.107 (from torch)\n",
            "  Using cached nvidia_cusolver_cu12-11.4.5.107-py3-none-manylinux1_x86_64.whl (124.2 MB)\n",
            "Collecting nvidia-cusparse-cu12==12.1.0.106 (from torch)\n",
            "  Using cached nvidia_cusparse_cu12-12.1.0.106-py3-none-manylinux1_x86_64.whl (196.0 MB)\n",
            "Collecting nvidia-nccl-cu12==2.19.3 (from torch)\n",
            "  Using cached nvidia_nccl_cu12-2.19.3-py3-none-manylinux1_x86_64.whl (166.0 MB)\n",
            "Collecting nvidia-nvtx-cu12==12.1.105 (from torch)\n",
            "  Using cached nvidia_nvtx_cu12-12.1.105-py3-none-manylinux1_x86_64.whl (99 kB)\n",
            "Requirement already satisfied: triton==2.2.0 in /usr/local/lib/python3.10/dist-packages (from torch) (2.2.0)\n",
            "Collecting nvidia-nvjitlink-cu12 (from nvidia-cusolver-cu12==11.4.5.107->torch)\n",
            "  Using cached nvidia_nvjitlink_cu12-12.4.127-py3-none-manylinux2014_x86_64.whl (21.1 MB)\n",
            "Requirement already satisfied: MarkupSafe>=2.0 in /usr/local/lib/python3.10/dist-packages (from jinja2->torch) (2.1.5)\n",
            "Requirement already satisfied: mpmath>=0.19 in /usr/local/lib/python3.10/dist-packages (from sympy->torch) (1.3.0)\n",
            "Installing collected packages: nvidia-nvtx-cu12, nvidia-nvjitlink-cu12, nvidia-nccl-cu12, nvidia-curand-cu12, nvidia-cufft-cu12, nvidia-cuda-runtime-cu12, nvidia-cuda-nvrtc-cu12, nvidia-cuda-cupti-cu12, nvidia-cublas-cu12, nvidia-cusparse-cu12, nvidia-cudnn-cu12, nvidia-cusolver-cu12\n",
            "Successfully installed nvidia-cublas-cu12-12.1.3.1 nvidia-cuda-cupti-cu12-12.1.105 nvidia-cuda-nvrtc-cu12-12.1.105 nvidia-cuda-runtime-cu12-12.1.105 nvidia-cudnn-cu12-8.9.2.26 nvidia-cufft-cu12-11.0.2.54 nvidia-curand-cu12-10.3.2.106 nvidia-cusolver-cu12-11.4.5.107 nvidia-cusparse-cu12-12.1.0.106 nvidia-nccl-cu12-2.19.3 nvidia-nvjitlink-cu12-12.4.127 nvidia-nvtx-cu12-12.1.105\n"
          ]
        }
      ],
      "source": [
        "!pip install torch"
      ]
    },
    {
      "cell_type": "markdown",
      "source": [
        "# Setting Workflow"
      ],
      "metadata": {
        "id": "48cdfkktE336"
      },
      "id": "48cdfkktE336"
    },
    {
      "cell_type": "code",
      "source": [
        "import torch\n",
        "\n",
        "\n",
        "device = torch.device('cuda' if torch.cuda.is_available() else 'cpu')\n",
        "print(device)"
      ],
      "metadata": {
        "colab": {
          "base_uri": "https://localhost:8080/"
        },
        "id": "mclBs6wKfM0j",
        "outputId": "c2deb874-9254-4a34-d3da-50ee88f9833b"
      },
      "id": "mclBs6wKfM0j",
      "execution_count": 92,
      "outputs": [
        {
          "output_type": "stream",
          "name": "stdout",
          "text": [
            "cuda\n"
          ]
        }
      ]
    },
    {
      "cell_type": "code",
      "source": [
        "import torch\n",
        "import torch.nn as nn\n",
        "import torch.nn.functional as F\n",
        "from torchvision import models\n",
        "import torch.optim as optim\n",
        "from time import time\n",
        "from matplotlib import rcParams\n",
        "import warnings\n",
        "\n",
        "import pickle\n",
        "import numpy as np\n",
        "from skimage import io\n",
        "\n",
        "from tqdm import tqdm\n",
        "from PIL import Image\n",
        "from pathlib import Path\n",
        "\n",
        "from torchvision import transforms\n",
        "from multiprocessing.pool import ThreadPool\n",
        "from sklearn.preprocessing import LabelEncoder\n",
        "from torch.utils.data import Dataset, DataLoader\n",
        "import torch.optim.lr_scheduler as lr_scheduler\n",
        "import torch.nn as nn\n",
        "import torch.nn.functional as F\n",
        "\n",
        "from matplotlib import pyplot as plt\n",
        "import PIL\n",
        "%matplotlib inline\n",
        "\n",
        "\n",
        "rcParams['figure.figsize'] = (15,4)\n",
        "warnings.filterwarnings(action='ignore', category=DeprecationWarning)"
      ],
      "metadata": {
        "id": "bxzp9q04hnzM"
      },
      "id": "bxzp9q04hnzM",
      "execution_count": 99,
      "outputs": []
    },
    {
      "cell_type": "code",
      "source": [
        "!pip install pyTelegramBotAPI"
      ],
      "metadata": {
        "colab": {
          "base_uri": "https://localhost:8080/"
        },
        "id": "T0RqIATywYli",
        "outputId": "2c0deae4-2d31-4ec7-985b-52980676fc1a"
      },
      "id": "T0RqIATywYli",
      "execution_count": 4,
      "outputs": [
        {
          "output_type": "stream",
          "name": "stdout",
          "text": [
            "Collecting pyTelegramBotAPI\n",
            "  Downloading pytelegrambotapi-4.17.0-py3-none-any.whl (240 kB)\n",
            "\u001b[2K     \u001b[90m━━━━━━━━━━━━━━━━━━━━━━━━━━━━━━━━━━━━━━━━\u001b[0m \u001b[32m240.6/240.6 kB\u001b[0m \u001b[31m2.4 MB/s\u001b[0m eta \u001b[36m0:00:00\u001b[0m\n",
            "\u001b[?25hRequirement already satisfied: requests in /usr/local/lib/python3.10/dist-packages (from pyTelegramBotAPI) (2.31.0)\n",
            "Requirement already satisfied: charset-normalizer<4,>=2 in /usr/local/lib/python3.10/dist-packages (from requests->pyTelegramBotAPI) (3.3.2)\n",
            "Requirement already satisfied: idna<4,>=2.5 in /usr/local/lib/python3.10/dist-packages (from requests->pyTelegramBotAPI) (3.7)\n",
            "Requirement already satisfied: urllib3<3,>=1.21.1 in /usr/local/lib/python3.10/dist-packages (from requests->pyTelegramBotAPI) (2.0.7)\n",
            "Requirement already satisfied: certifi>=2017.4.17 in /usr/local/lib/python3.10/dist-packages (from requests->pyTelegramBotAPI) (2024.2.2)\n",
            "Installing collected packages: pyTelegramBotAPI\n",
            "Successfully installed pyTelegramBotAPI-4.17.0\n"
          ]
        }
      ]
    },
    {
      "cell_type": "markdown",
      "source": [
        "# NN Architecture"
      ],
      "metadata": {
        "id": "mrnBnv4NFY2_"
      },
      "id": "mrnBnv4NFY2_"
    },
    {
      "cell_type": "code",
      "source": [
        "class MuratNet(nn.Module):\n",
        "  def __init__(self, input_layer):\n",
        "    super().__init__()\n",
        "\n",
        "    self.layer1 = nn.Sequential(\n",
        "      nn.BatchNorm1d(num_features=input_layer),\n",
        "      nn.Linear(in_features=input_layer, out_features=64),\n",
        "      nn.ReLU(inplace=False)\n",
        "    )\n",
        "\n",
        "    self.layer2 = nn.Sequential(\n",
        "      nn.BatchNorm1d(num_features=64),\n",
        "      nn.Linear(in_features=64, out_features=256),\n",
        "      nn.ReLU(inplace=False)\n",
        "    )\n",
        "\n",
        "    self.layer3 = nn.Sequential(\n",
        "      nn.BatchNorm1d(num_features=256),\n",
        "      nn.Linear(in_features=256, out_features=256),\n",
        "      nn.ReLU(inplace=False)\n",
        "    )\n",
        "\n",
        "    self.layer4 = nn.Sequential(\n",
        "      nn.Dropout(p=0.5),\n",
        "      nn.Linear(in_features=256, out_features=256),\n",
        "      nn.ReLU(inplace=False)\n",
        "    )\n",
        "\n",
        "    self.layer5 = nn.Sequential(\n",
        "      nn.BatchNorm1d(num_features=256),\n",
        "      nn.Linear(in_features=256, out_features=64),\n",
        "      nn.ReLU(inplace=False)\n",
        "    )\n",
        "\n",
        "    self.layer6 = nn.Sequential(\n",
        "      nn.BatchNorm1d(num_features=64),\n",
        "      nn.Linear(in_features=64, out_features=1)\n",
        "    )\n",
        "\n",
        "\n",
        "  def forward(self, x):\n",
        "    x = self.layer1(x)\n",
        "    x = self.layer2(x)\n",
        "    x = self.layer3(x)\n",
        "    x = self.layer4(x)\n",
        "    x = self.layer5(x)\n",
        "    x = self.layer6(x)\n",
        "\n",
        "    return x\n"
      ],
      "metadata": {
        "id": "kM61gieph43X"
      },
      "id": "kM61gieph43X",
      "execution_count": 180,
      "outputs": []
    },
    {
      "cell_type": "markdown",
      "source": [
        "# DataSet Wraper"
      ],
      "metadata": {
        "id": "bckrUShXEv6e"
      },
      "id": "bckrUShXEv6e"
    },
    {
      "cell_type": "code",
      "source": [
        "class ReqDataset(Dataset):\n",
        "  def __init__(self, files, mode):\n",
        "    super().__init__()\n",
        "\n",
        "    self.files = sorted(files)\n",
        "    self.mode = mode\n",
        "\n",
        "    self.len_ = len(self.files)\n",
        "\n",
        "  def __len__(self):\n",
        "    return self.len_\n",
        "\n",
        "  def __getitem__(self, index):\n",
        "    pass\n"
      ],
      "metadata": {
        "id": "MOcCIo-HKxYR"
      },
      "id": "MOcCIo-HKxYR",
      "execution_count": 13,
      "outputs": []
    },
    {
      "cell_type": "markdown",
      "source": [
        "# Training Cycles"
      ],
      "metadata": {
        "id": "eb95pRrtEhP-"
      },
      "id": "eb95pRrtEhP-"
    },
    {
      "cell_type": "code",
      "source": [
        "a = np.zeros((2, 10))\n",
        "a[1, :] += np.ones(10)\n",
        "a[1, :]"
      ],
      "metadata": {
        "colab": {
          "base_uri": "https://localhost:8080/"
        },
        "id": "jtr7Jjv_MHsJ",
        "outputId": "52861b1e-7551-4d5c-9817-47e2f5d370ef"
      },
      "id": "jtr7Jjv_MHsJ",
      "execution_count": 28,
      "outputs": [
        {
          "output_type": "execute_result",
          "data": {
            "text/plain": [
              "array([1., 1., 1., 1., 1., 1., 1., 1., 1., 1.])"
            ]
          },
          "metadata": {},
          "execution_count": 28
        }
      ]
    },
    {
      "cell_type": "code",
      "source": [
        "import telebot\n",
        "\n",
        "API_TOKEN = \"6959275444:AAGUIhrnjrkKzN8P7GXPF6tVeDqJSztbsKI\"\n",
        "\n",
        "bot = telebot.TeleBot(API_TOKEN)\n",
        "mine_id = 901500807\n",
        "bot.send_message(chat_id=mine_id, text=\"Ready to Ignite\");\n"
      ],
      "metadata": {
        "id": "k68-G5KCrFn_"
      },
      "id": "k68-G5KCrFn_",
      "execution_count": 6,
      "outputs": []
    },
    {
      "cell_type": "code",
      "source": [
        "def fit_epoch(model, train_loader, loss_fn_mse, loss_fn_cel, optimizer):\n",
        "  model.train()\n",
        "\n",
        "  loss_mse = 0\n",
        "  loss_cel = 0\n",
        "  RSS = 0\n",
        "  TSS = 0\n",
        "  running_corrects = 0\n",
        "  processed_data = 0\n",
        "\n",
        "  for inputs, labels in train_loader:\n",
        "    inputs = inputs.to(device)\n",
        "    labels = labels.to(device)\n",
        "    optimizer.zero_grad()\n",
        "\n",
        "    outputs = model(inputs)\n",
        "\n",
        "    loss_mse = loss_fn_mse(outputs[:, 0], labels[:, 0])\n",
        "    loss_cel = loss_fn_cel(outputs[:, 1], labels[:, 1])\n",
        "    total_loss = 0.5 * loss_mse + 0.5 * loss_cel\n",
        "\n",
        "    total_loss.backward()\n",
        "    optimizer.step()\n",
        "\n",
        "\n",
        "    RSS += torch.sum(torch.abs(labels[:, 0] - outputs[:, 0])).item()\n",
        "    TSS += torch.sum(torch.abs(labels[:, 0] - outputs[:, 0].mean())).item()\n",
        "\n",
        "    running_corrects += torch.sum(torch.round(torch.sigmoid(F.softmax(outputs[:, 1]))) == labels[:, 1])\n",
        "    processed_data += inputs.size(0)\n",
        "\n",
        "\n",
        "  R2 = 1 - RSS/TSS\n",
        "  train_acc = running_corrects.cpu().numpy() / processed_data\n",
        "  return loss_mse, loss_cel, R2, train_acc"
      ],
      "metadata": {
        "id": "0c_mIz__A9kM"
      },
      "id": "0c_mIz__A9kM",
      "execution_count": 172,
      "outputs": []
    },
    {
      "cell_type": "code",
      "source": [
        "def eval_epoch(model, val_loader, loss_fn_mse, loss_fn_cel):\n",
        "  model.eval()\n",
        "\n",
        "  loss_mse = 0\n",
        "  loss_cel = 0\n",
        "  RSS = 0\n",
        "  TSS = 0\n",
        "  running_corrects = 0\n",
        "  processed_data = 0\n",
        "\n",
        "  for inputs, labels in val_loader:\n",
        "      inputs = inputs.to(device)\n",
        "      labels = labels.to(device)\n",
        "\n",
        "      with torch.set_grad_enabled(False):\n",
        "          outputs = model(inputs)\n",
        "          loss_mse = loss_fn_mse(outputs[:, 0], labels[:, 0])\n",
        "          loss_cel = loss_fn_cel(outputs[:, 1], labels[:, 1])\n",
        "          total_loss = 0.5 * loss_mse + 0.5 * loss_cel\n",
        "\n",
        "\n",
        "          RSS += torch.sum(torch.abs(labels[:, 0] - outputs[:, 0])).item()\n",
        "          TSS += torch.sum(torch.abs(labels[:, 0] - outputs[:, 0].mean())).item()\n",
        "\n",
        "          running_corrects += torch.sum(torch.round(torch.sigmoid(F.softmax(outputs[:, 1]))) == labels[:, 1])\n",
        "          processed_data += inputs.size(0)\n",
        "\n",
        "\n",
        "  R2 = 1 - RSS/TSS\n",
        "  train_acc = running_corrects.cpu().numpy() / processed_data\n",
        "  return R2, train_acc"
      ],
      "metadata": {
        "id": "e5TPEMaKBOiV"
      },
      "id": "e5TPEMaKBOiV",
      "execution_count": 173,
      "outputs": []
    },
    {
      "cell_type": "code",
      "source": [
        "def train(train_X, train_y, val_X, val_y, model, epochs, batch_size):\n",
        "    train_loader = DataLoader(list(zip(train_X, train_y)), batch_size=batch_size, shuffle=True)\n",
        "    val_loader = DataLoader(list(zip(val_X, val_y)), batch_size=batch_size, shuffle=False)\n",
        "\n",
        "    history = []\n",
        "    log_template = \"\\nEpoch {ep:03d} train_R2: {t_R2:0.4f} \\\n",
        "    train_acc {t_acc:0.4f} val_R2 {v_R2:0.4f} val_acc {v_acc:0.4f}\"\n",
        "    message_template = \"Epoch: {ep:03d}/{eps:03d} training_R2 {t_R2:0.4f} \\\n",
        "    train_accuracy {t_acc:0.4f} validation_R2 {v_R2:0.4f} validation_accuracy {v_acc:0.4f}\"\n",
        "    best_acc = 0\n",
        "    best_model_wts = 0\n",
        "\n",
        "    with tqdm(desc=\"epoch\", total=epochs) as pbar_outer:\n",
        "        opt = torch.optim.Adam(model.parameters())\n",
        "        loss_fn_mse = nn.MSELoss()  # Mean Square Error\n",
        "        loss_fn_cel = nn.CrossEntropyLoss()  # Cross Entropy Loss\n",
        "\n",
        "        for epoch in range(epochs):\n",
        "            loss_mse, loss_cel, train_R2, train_acc = fit_epoch(model, train_loader,\\\n",
        "                                                      loss_fn_mse, loss_fn_cel,\\\n",
        "                                                      opt)\n",
        "            # print(\"R2\", train_R2)\n",
        "\n",
        "            val_R2, val_acc = eval_epoch(model, val_loader, loss_fn_mse, loss_fn_cel)\n",
        "            history.append((train_R2, val_R2, train_acc, val_acc))\n",
        "\n",
        "            if val_R2 > best_acc:\n",
        "                best_acc = val_R2\n",
        "                best_model_wts = model.state_dict()\n",
        "\n",
        "            pbar_outer.update(1)\n",
        "            tqdm.write(log_template.format(ep=epoch+1, t_R2=train_R2,\\\n",
        "                                           v_R2=val_R2, t_acc=train_acc,\\\n",
        "                                           v_acc=val_acc))\n",
        "            bot.send_message(chat_id=mine_id,\\\n",
        "                             text=message_template.format(ep=epoch + 1,\\\n",
        "                                                          eps=epochs,\\\n",
        "                                                          t_R2=train_R2,\\\n",
        "                                                          v_R2=val_R2,\\\n",
        "                                                          t_acc=train_acc,\\\n",
        "                                                          v_acc=val_acc))\n",
        "\n",
        "    model.load_state_dict(best_model_wts)\n",
        "    return model, history"
      ],
      "metadata": {
        "id": "iLasd5_4BXDb"
      },
      "id": "iLasd5_4BXDb",
      "execution_count": 202,
      "outputs": []
    },
    {
      "cell_type": "markdown",
      "source": [
        "# Training"
      ],
      "metadata": {
        "id": "jxPahpa4Fqbv"
      },
      "id": "jxPahpa4Fqbv"
    },
    {
      "cell_type": "code",
      "source": [
        "from google.colab import drive\n",
        "drive.mount('/content/gdrive/')"
      ],
      "metadata": {
        "colab": {
          "base_uri": "https://localhost:8080/"
        },
        "id": "M2SxcCgHSEKz",
        "outputId": "f7135743-9862-4175-a766-9b99a532b430"
      },
      "id": "M2SxcCgHSEKz",
      "execution_count": 61,
      "outputs": [
        {
          "output_type": "stream",
          "name": "stdout",
          "text": [
            "Drive already mounted at /content/gdrive/; to attempt to forcibly remount, call drive.mount(\"/content/gdrive/\", force_remount=True).\n"
          ]
        }
      ]
    },
    {
      "cell_type": "code",
      "source": [
        "!ls"
      ],
      "metadata": {
        "colab": {
          "base_uri": "https://localhost:8080/"
        },
        "id": "4U08uxfJSU8n",
        "outputId": "f2f6842e-106a-4127-a3a5-aef3daecdf5f"
      },
      "id": "4U08uxfJSU8n",
      "execution_count": 62,
      "outputs": [
        {
          "output_type": "stream",
          "name": "stdout",
          "text": [
            "gdrive\tsample_data\n"
          ]
        }
      ]
    },
    {
      "cell_type": "code",
      "source": [
        "import pandas as pd"
      ],
      "metadata": {
        "id": "4MZIeA99S5IF"
      },
      "id": "4MZIeA99S5IF",
      "execution_count": 39,
      "outputs": []
    },
    {
      "cell_type": "code",
      "source": [
        "df = pd.read_parquet('gdrive/MyDrive/with_type-3.parquet')"
      ],
      "metadata": {
        "id": "BTRyaRovSb4K"
      },
      "id": "BTRyaRovSb4K",
      "execution_count": 63,
      "outputs": []
    },
    {
      "cell_type": "code",
      "source": [
        "df.info()"
      ],
      "metadata": {
        "colab": {
          "base_uri": "https://localhost:8080/"
        },
        "id": "1YVrxfqBS8jr",
        "outputId": "151730e7-e9d9-46be-953a-c48e0a09257e"
      },
      "id": "1YVrxfqBS8jr",
      "execution_count": 65,
      "outputs": [
        {
          "output_type": "stream",
          "name": "stdout",
          "text": [
            "<class 'pandas.core.frame.DataFrame'>\n",
            "Index: 431338 entries, 0 to 449412\n",
            "Data columns (total 13 columns):\n",
            " #   Column      Non-Null Count   Dtype  \n",
            "---  ------      --------------   -----  \n",
            " 0   timestamp   431338 non-null  int64  \n",
            " 1   user_id     431338 non-null  int32  \n",
            " 2   gender      431338 non-null  float64\n",
            " 3   age         431338 non-null  float64\n",
            " 4   region_id   431338 non-null  int64  \n",
            " 5   country_id  431338 non-null  int64  \n",
            " 6   domain      431338 non-null  int64  \n",
            " 7   path        431338 non-null  int64  \n",
            " 8   is_email    431338 non-null  int64  \n",
            " 9   is_mobile   431338 non-null  int64  \n",
            " 10  is_pc       431338 non-null  int64  \n",
            " 11  is_tablet   431338 non-null  int64  \n",
            " 12  path_count  431338 non-null  int64  \n",
            "dtypes: float64(2), int32(1), int64(10)\n",
            "memory usage: 44.4 MB\n"
          ]
        }
      ]
    },
    {
      "cell_type": "code",
      "source": [
        "y = df[[\"age\", \"gender\"]]\n",
        "X = df.drop([\"age\", \"gender\"], axis=1)"
      ],
      "metadata": {
        "id": "Y_9gIA6tTCA1"
      },
      "id": "Y_9gIA6tTCA1",
      "execution_count": 66,
      "outputs": []
    },
    {
      "cell_type": "code",
      "source": [
        "import copy\n",
        "import numpy as np\n",
        "import torch\n",
        "import tqdm\n",
        "from sklearn.model_selection import train_test_split\n",
        "\n",
        "# train-test split of the dataset\n",
        "X_train, X_test, y_train, y_test = train_test_split(X, y, train_size=0.7, shuffle=True)\n",
        "X_train = torch.tensor(X_train.values, dtype=torch.float32)\n",
        "y_train = torch.tensor(y_train.values, dtype=torch.float32) # .reshape(-1, 1)\n",
        "X_test = torch.tensor(X_test.values, dtype=torch.float32)\n",
        "y_test = torch.tensor(y_test.values, dtype=torch.float32) # .reshape(-1, 1)\n",
        "\n",
        "\n",
        "# training parameters\n",
        "n_epochs = 10   # number of epochs to run\n",
        "bt = 100  # size of each batch\n",
        "md = MuratNet(input_layer=11)\n",
        "md.to(device)"
      ],
      "metadata": {
        "colab": {
          "base_uri": "https://localhost:8080/"
        },
        "id": "hyBX91xC-LEy",
        "outputId": "f0d6bf41-0ae9-49a2-86f0-24f3fce4ff10"
      },
      "id": "hyBX91xC-LEy",
      "execution_count": 157,
      "outputs": [
        {
          "output_type": "execute_result",
          "data": {
            "text/plain": [
              "MuratNet(\n",
              "  (layer1): Sequential(\n",
              "    (0): BatchNorm1d(11, eps=1e-05, momentum=0.1, affine=True, track_running_stats=True)\n",
              "    (1): Linear(in_features=11, out_features=64, bias=True)\n",
              "    (2): ReLU()\n",
              "  )\n",
              "  (layer2): Sequential(\n",
              "    (0): BatchNorm1d(64, eps=1e-05, momentum=0.1, affine=True, track_running_stats=True)\n",
              "    (1): Linear(in_features=64, out_features=256, bias=True)\n",
              "    (2): ReLU()\n",
              "  )\n",
              "  (layer3): Sequential(\n",
              "    (0): BatchNorm1d(256, eps=1e-05, momentum=0.1, affine=True, track_running_stats=True)\n",
              "    (1): Linear(in_features=256, out_features=256, bias=True)\n",
              "    (2): ReLU()\n",
              "  )\n",
              "  (layer4): Sequential(\n",
              "    (0): Dropout(p=0.5, inplace=False)\n",
              "    (1): Linear(in_features=256, out_features=256, bias=True)\n",
              "    (2): ReLU()\n",
              "  )\n",
              "  (layer5): Sequential(\n",
              "    (0): BatchNorm1d(256, eps=1e-05, momentum=0.1, affine=True, track_running_stats=True)\n",
              "    (1): Linear(in_features=256, out_features=64, bias=True)\n",
              "    (2): ReLU()\n",
              "  )\n",
              "  (layer6): Sequential(\n",
              "    (0): BatchNorm1d(64, eps=1e-05, momentum=0.1, affine=True, track_running_stats=True)\n",
              "    (1): Linear(in_features=64, out_features=2, bias=True)\n",
              "  )\n",
              ")"
            ]
          },
          "metadata": {},
          "execution_count": 157
        }
      ]
    },
    {
      "cell_type": "code",
      "source": [
        "from tqdm import tqdm\n",
        "import torch.nn.functional as F\n",
        "\n",
        "best_model, history = train(X_train, y_train, X_test, y_test, model=md, epochs=n_epochs, batch_size=bt)"
      ],
      "metadata": {
        "colab": {
          "base_uri": "https://localhost:8080/",
          "height": 335
        },
        "id": "XXA0B4-gYmtJ",
        "outputId": "d252a9ee-41a1-431a-a7e5-567edf4a1ba2"
      },
      "id": "XXA0B4-gYmtJ",
      "execution_count": 203,
      "outputs": [
        {
          "output_type": "stream",
          "name": "stderr",
          "text": [
            "epoch:   0%|          | 0/10 [00:00<?, ?it/s]\n"
          ]
        },
        {
          "output_type": "error",
          "ename": "TypeError",
          "evalue": "fit_epoch() takes 4 positional arguments but 5 were given",
          "traceback": [
            "\u001b[0;31m---------------------------------------------------------------------------\u001b[0m",
            "\u001b[0;31mTypeError\u001b[0m                                 Traceback (most recent call last)",
            "\u001b[0;32m<ipython-input-203-bfb1fe3664bb>\u001b[0m in \u001b[0;36m<cell line: 4>\u001b[0;34m()\u001b[0m\n\u001b[1;32m      2\u001b[0m \u001b[0;32mimport\u001b[0m \u001b[0mtorch\u001b[0m\u001b[0;34m.\u001b[0m\u001b[0mnn\u001b[0m\u001b[0;34m.\u001b[0m\u001b[0mfunctional\u001b[0m \u001b[0;32mas\u001b[0m \u001b[0mF\u001b[0m\u001b[0;34m\u001b[0m\u001b[0;34m\u001b[0m\u001b[0m\n\u001b[1;32m      3\u001b[0m \u001b[0;34m\u001b[0m\u001b[0m\n\u001b[0;32m----> 4\u001b[0;31m \u001b[0mbest_model\u001b[0m\u001b[0;34m,\u001b[0m \u001b[0mhistory\u001b[0m \u001b[0;34m=\u001b[0m \u001b[0mtrain\u001b[0m\u001b[0;34m(\u001b[0m\u001b[0mX_train\u001b[0m\u001b[0;34m,\u001b[0m \u001b[0my_train\u001b[0m\u001b[0;34m,\u001b[0m \u001b[0mX_test\u001b[0m\u001b[0;34m,\u001b[0m \u001b[0my_test\u001b[0m\u001b[0;34m,\u001b[0m \u001b[0mmodel\u001b[0m\u001b[0;34m=\u001b[0m\u001b[0mmd\u001b[0m\u001b[0;34m,\u001b[0m \u001b[0mepochs\u001b[0m\u001b[0;34m=\u001b[0m\u001b[0mn_epochs\u001b[0m\u001b[0;34m,\u001b[0m \u001b[0mbatch_size\u001b[0m\u001b[0;34m=\u001b[0m\u001b[0mbt\u001b[0m\u001b[0;34m)\u001b[0m\u001b[0;34m\u001b[0m\u001b[0;34m\u001b[0m\u001b[0m\n\u001b[0m",
            "\u001b[0;32m<ipython-input-202-ac3f68d6f458>\u001b[0m in \u001b[0;36mtrain\u001b[0;34m(train_X, train_y, val_X, val_y, model, epochs, batch_size)\u001b[0m\n\u001b[1;32m     17\u001b[0m \u001b[0;34m\u001b[0m\u001b[0m\n\u001b[1;32m     18\u001b[0m         \u001b[0;32mfor\u001b[0m \u001b[0mepoch\u001b[0m \u001b[0;32min\u001b[0m \u001b[0mrange\u001b[0m\u001b[0;34m(\u001b[0m\u001b[0mepochs\u001b[0m\u001b[0;34m)\u001b[0m\u001b[0;34m:\u001b[0m\u001b[0;34m\u001b[0m\u001b[0;34m\u001b[0m\u001b[0m\n\u001b[0;32m---> 19\u001b[0;31m             loss_mse, loss_cel, train_R2, train_acc = fit_epoch(model, train_loader,\\\n\u001b[0m\u001b[1;32m     20\u001b[0m                                                       \u001b[0mloss_fn_mse\u001b[0m\u001b[0;34m,\u001b[0m \u001b[0mloss_fn_cel\u001b[0m\u001b[0;34m,\u001b[0m\u001b[0;31m\\\u001b[0m\u001b[0;34m\u001b[0m\u001b[0;34m\u001b[0m\u001b[0m\n\u001b[1;32m     21\u001b[0m                                                       opt)\n",
            "\u001b[0;31mTypeError\u001b[0m: fit_epoch() takes 4 positional arguments but 5 were given"
          ]
        }
      ]
    },
    {
      "cell_type": "code",
      "source": [],
      "metadata": {
        "id": "8hoG4cgA5VzH"
      },
      "id": "8hoG4cgA5VzH",
      "execution_count": null,
      "outputs": []
    },
    {
      "cell_type": "code",
      "source": [
        "print(f\"val_acc: {0.56}\\nval_R2: {0.104}\")"
      ],
      "metadata": {
        "colab": {
          "base_uri": "https://localhost:8080/"
        },
        "id": "Lj_A19j15M7a",
        "outputId": "50a4abd6-072d-458f-ea2b-3f89188f5b68"
      },
      "id": "Lj_A19j15M7a",
      "execution_count": 205,
      "outputs": [
        {
          "output_type": "stream",
          "name": "stdout",
          "text": [
            "val_acc: 0.56\n",
            "val_R2: 0.104\n"
          ]
        }
      ]
    },
    {
      "cell_type": "markdown",
      "source": [
        "# Sep Training"
      ],
      "metadata": {
        "id": "udT0mX9Iy0cN"
      },
      "id": "udT0mX9Iy0cN"
    },
    {
      "cell_type": "code",
      "source": [
        "def fit_epoch_mse(model, train_loader, loss_fn, optimizer):\n",
        "  model.train()\n",
        "\n",
        "  RSS = 0\n",
        "  TSS = 0\n",
        "\n",
        "  for inputs, labels in train_loader:\n",
        "    inputs = inputs.to(device)\n",
        "    labels = labels.to(device)\n",
        "    optimizer.zero_grad()\n",
        "\n",
        "    outputs = model(inputs)\n",
        "\n",
        "    loss = loss_fn(outputs, labels[:, 0])\n",
        "    loss.backward()\n",
        "    optimizer.step()\n",
        "\n",
        "\n",
        "    RSS += torch.sum(torch.abs(labels[:, 0] - outputs)).item()\n",
        "    TSS += torch.sum(torch.abs(labels[:, 0] - outputs.mean())).item()\n",
        "\n",
        "  R2 = 1 - RSS/TSS\n",
        "  return R2"
      ],
      "metadata": {
        "id": "WYTFo3sKZ_vk"
      },
      "id": "WYTFo3sKZ_vk",
      "execution_count": 188,
      "outputs": []
    },
    {
      "cell_type": "code",
      "source": [
        "def fit_epoch_cel(model, train_loader, loss_fn, optimizer):\n",
        "  model.train()\n",
        "\n",
        "  running_corrects = 0\n",
        "  processed_data = 0\n",
        "\n",
        "  for inputs, labels in train_loader:\n",
        "    inputs = inputs.to(device)\n",
        "    labels = labels.to(device)\n",
        "    optimizer.zero_grad()\n",
        "\n",
        "    outputs = model(inputs)\n",
        "\n",
        "    loss = loss_fn(outputs, labels[:, 0])\n",
        "    loss.backward()\n",
        "    optimizer.step()\n",
        "\n",
        "\n",
        "    running_corrects += torch.sum(torch.round(torch.sigmoid(outputs)) == labels[:, 1])\n",
        "    processed_data += inputs.size(0)\n",
        "\n",
        "  train_acc = running_corrects.cpu().numpy() / processed_data\n",
        "  return train_acc"
      ],
      "metadata": {
        "id": "TtyteZMhzN4U"
      },
      "id": "TtyteZMhzN4U",
      "execution_count": 190,
      "outputs": []
    },
    {
      "cell_type": "code",
      "source": [
        "def eval_epoch_mse(model, val_loader, loss_fn):\n",
        "  model.eval()\n",
        "\n",
        "  running_corrects = 0\n",
        "  processed_data = 0\n",
        "  RSS = 0\n",
        "  TSS = 0\n",
        "\n",
        "  for inputs, labels in val_loader:\n",
        "      inputs = inputs.to(device)\n",
        "      labels = labels.to(device)\n",
        "\n",
        "      with torch.set_grad_enabled(False):\n",
        "          outputs = model(inputs)\n",
        "          loss = loss_fn(outputs, labels[:, 1])\n",
        "\n",
        "          RSS += torch.sum(torch.abs(labels[:, 0] - outputs)).item()\n",
        "          TSS += torch.sum(torch.abs(labels[:, 0] - outputs.mean())).item()\n",
        "\n",
        "  R2 = 1 - RSS/TSS\n",
        "  return R2"
      ],
      "metadata": {
        "id": "kFd_YWcCzeo6"
      },
      "id": "kFd_YWcCzeo6",
      "execution_count": 198,
      "outputs": []
    },
    {
      "cell_type": "code",
      "source": [
        "def eval_epoch_cel(model, val_loader, loss_fn):\n",
        "  model.eval()\n",
        "\n",
        "  running_corrects = 0\n",
        "  processed_data = 0\n",
        "\n",
        "  for inputs, labels in val_loader:\n",
        "      inputs = inputs.to(device)\n",
        "      labels = labels.to(device)\n",
        "\n",
        "      with torch.set_grad_enabled(False):\n",
        "          outputs = model(inputs)\n",
        "          loss = loss_fn(outputs[:, 1], labels[:, 1])\n",
        "\n",
        "          running_corrects += torch.sum(torch.round(torch.sigmoid(outputs)) == labels[:, 1])\n",
        "          processed_data += inputs.size(0)\n",
        "\n",
        "\n",
        "  val_acc = running_corrects.cpu().numpy() / processed_data\n",
        "  return val_acc"
      ],
      "metadata": {
        "id": "023yTZLrw5nU"
      },
      "id": "023yTZLrw5nU",
      "execution_count": 191,
      "outputs": []
    },
    {
      "cell_type": "code",
      "source": [
        "def train2(train_X, train_y, val_X, val_y, model1, model2, epochs, batch_size):\n",
        "    train_loader_1 = DataLoader(list(zip(train_X, train_y)), batch_size=batch_size, shuffle=True)\n",
        "    val_loader_1 = DataLoader(list(zip(val_X, val_y)), batch_size=batch_size, shuffle=False)\n",
        "\n",
        "    train_loader_2 = DataLoader(list(zip(train_X, train_y)), batch_size=batch_size, shuffle=True)\n",
        "    val_loader_2 = DataLoader(list(zip(val_X, val_y)), batch_size=batch_size, shuffle=False)\n",
        "\n",
        "\n",
        "    history = []\n",
        "    log_template = \"\\nEpoch {ep:03d} train_R2: {t_R2:0.4f} \\\n",
        "    train_acc {t_acc:0.4f} val_R2 {v_R2:0.4f} val_acc {v_acc:0.4f}\"\n",
        "    message_template = \"Epoch: {ep:03d}/{eps:03d} training_R2 {t_R2:0.4f} \\\n",
        "    train_accuracy {t_acc:0.4f} validation_R2 {v_R2:0.4f} validation_accuracy {v_acc:0.4f}\"\n",
        "    best_acc = 0\n",
        "    best_r2 = 0\n",
        "    best_model1_wts = 0\n",
        "    best_model2_wts = 0\n",
        "\n",
        "    with tqdm(desc=\"epoch\", total=epochs) as pbar_outer:\n",
        "        opt1 = torch.optim.Adam(model1.parameters())\n",
        "        opt2 = torch.optim.Adam(model2.parameters())\n",
        "        loss_fn_mse = nn.MSELoss()  # Mean Square Error\n",
        "        loss_fn_cel = nn.CrossEntropyLoss()  # Cross Entropy Loss\n",
        "\n",
        "        for epoch in range(epochs):\n",
        "            train_R2 = fit_epoch_mse(model1, train_loader_1,\\\n",
        "                                  loss_fn_mse,\\\n",
        "                                  opt1)\n",
        "            '''\n",
        "            train_acc = fit_epoch_cel(model2, train_loader_2,\\\n",
        "                                  loss_fn_cel,\\\n",
        "                                  opt2)\n",
        "            '''\n",
        "\n",
        "            val_R2 = eval_epoch_mse(model1, val_loader_1, loss_fn_mse)\n",
        "            # val_acc = eval_epoch_cel(model2, val_loader_2, loss_fn_cel)\n",
        "            val_acc = 0\n",
        "            train_acc = 0\n",
        "\n",
        "            history.append((train_R2, val_R2, train_acc, val_acc))\n",
        "\n",
        "            if val_R2 > best_r2:\n",
        "                best_r2 = val_R2\n",
        "                best_model1_wts = model1.state_dict()\n",
        "            if val_acc > best_acc:\n",
        "                best_acc = val_R2\n",
        "                best_model2_wts = model2.state_dict()\n",
        "\n",
        "            pbar_outer.update(1)\n",
        "            tqdm.write(log_template.format(ep=epoch+1, t_R2=train_R2,\\\n",
        "                                           v_R2=val_R2, t_acc=train_acc,\\\n",
        "                                           v_acc=val_acc))\n",
        "            bot.send_message(chat_id=mine_id,\\\n",
        "                             text=message_template.format(ep=epoch + 1,\\\n",
        "                                                          eps=epochs,\\\n",
        "                                                          t_R2=train_R2,\\\n",
        "                                                          v_R2=val_R2,\\\n",
        "                                                          t_acc=train_acc,\\\n",
        "                                                          v_acc=val_acc))\n",
        "\n",
        "    model1.load_state_dict(best_model1_wts)\n",
        "    model2.load_state_dict(best_model2_wts)\n",
        "    return model1, model2, history"
      ],
      "metadata": {
        "id": "hmkV-pciw51G"
      },
      "id": "hmkV-pciw51G",
      "execution_count": 201,
      "outputs": []
    },
    {
      "cell_type": "code",
      "source": [
        "from tqdm import tqdm\n",
        "import torch.nn.functional as F\n",
        "\n",
        "\n",
        "# training parameters\n",
        "n_epochs = 10   # number of epochs to run\n",
        "bt = 100  # size of each batch\n",
        "md1 = MuratNet(input_layer=11)\n",
        "md1.to(device)\n",
        "\n",
        "md2 = MuratNet(input_layer=11)\n",
        "md2.to(device)\n",
        "\n",
        "best_model1, best_model2, history = train(X_train, y_train, X_test, y_test, model1=md1, model2=md2, epochs=n_epochs, batch_size=bt)"
      ],
      "metadata": {
        "colab": {
          "base_uri": "https://localhost:8080/",
          "height": 759
        },
        "id": "uKO3e0xPylBI",
        "outputId": "ab61a813-c4e4-4d8a-95fd-546909b5eefc"
      },
      "id": "uKO3e0xPylBI",
      "execution_count": 199,
      "outputs": [
        {
          "output_type": "stream",
          "name": "stderr",
          "text": [
            "epoch:   0%|          | 0/10 [00:00<?, ?it/s]/usr/local/lib/python3.10/dist-packages/torch/nn/modules/loss.py:535: UserWarning: Using a target size (torch.Size([2])) that is different to the input size (torch.Size([2, 1])). This will likely lead to incorrect results due to broadcasting. Please ensure they have the same size.\n",
            "  return F.mse_loss(input, target, reduction=self.reduction)\n",
            "epoch:  10%|█         | 1/10 [00:15<02:16, 15.18s/it]"
          ]
        },
        {
          "output_type": "stream",
          "name": "stdout",
          "text": [
            "\n",
            "Epoch 001 train_R2: -98.9945     train_acc 0.0000 val_R2 -98.9992 val_acc 0.0000\n"
          ]
        },
        {
          "output_type": "stream",
          "name": "stderr",
          "text": [
            "epoch:  20%|██        | 2/10 [00:30<02:00, 15.08s/it]"
          ]
        },
        {
          "output_type": "stream",
          "name": "stdout",
          "text": [
            "\n",
            "Epoch 002 train_R2: -98.9926     train_acc 0.0000 val_R2 -98.9992 val_acc 0.0000\n"
          ]
        },
        {
          "output_type": "stream",
          "name": "stderr",
          "text": [
            "epoch:  30%|███       | 3/10 [00:44<01:43, 14.85s/it]"
          ]
        },
        {
          "output_type": "stream",
          "name": "stdout",
          "text": [
            "\n",
            "Epoch 003 train_R2: -98.9922     train_acc 0.0000 val_R2 -98.9992 val_acc 0.0000\n"
          ]
        },
        {
          "output_type": "stream",
          "name": "stderr",
          "text": [
            "epoch:  40%|████      | 4/10 [00:59<01:28, 14.80s/it]"
          ]
        },
        {
          "output_type": "stream",
          "name": "stdout",
          "text": [
            "\n",
            "Epoch 004 train_R2: -98.9932     train_acc 0.0000 val_R2 -98.9992 val_acc 0.0000\n"
          ]
        },
        {
          "output_type": "stream",
          "name": "stderr",
          "text": [
            "epoch:  50%|█████     | 5/10 [01:14<01:13, 14.72s/it]"
          ]
        },
        {
          "output_type": "stream",
          "name": "stdout",
          "text": [
            "\n",
            "Epoch 005 train_R2: -98.9938     train_acc 0.0000 val_R2 -98.9994 val_acc 0.0000\n"
          ]
        },
        {
          "output_type": "stream",
          "name": "stderr",
          "text": [
            "epoch:  60%|██████    | 6/10 [01:28<00:58, 14.72s/it]"
          ]
        },
        {
          "output_type": "stream",
          "name": "stdout",
          "text": [
            "\n",
            "Epoch 006 train_R2: -98.9923     train_acc 0.0000 val_R2 -99.0006 val_acc 0.0000\n"
          ]
        },
        {
          "output_type": "stream",
          "name": "stderr",
          "text": [
            "epoch:  70%|███████   | 7/10 [01:45<00:45, 15.23s/it]"
          ]
        },
        {
          "output_type": "stream",
          "name": "stdout",
          "text": [
            "\n",
            "Epoch 007 train_R2: -98.9913     train_acc 0.0000 val_R2 -98.9993 val_acc 0.0000\n"
          ]
        },
        {
          "output_type": "stream",
          "name": "stderr",
          "text": [
            "epoch:  80%|████████  | 8/10 [02:00<00:30, 15.14s/it]"
          ]
        },
        {
          "output_type": "stream",
          "name": "stdout",
          "text": [
            "\n",
            "Epoch 008 train_R2: -98.9926     train_acc 0.0000 val_R2 -99.0596 val_acc 0.0000\n"
          ]
        },
        {
          "output_type": "stream",
          "name": "stderr",
          "text": [
            "epoch:  90%|█████████ | 9/10 [02:14<00:15, 15.07s/it]"
          ]
        },
        {
          "output_type": "stream",
          "name": "stdout",
          "text": [
            "\n",
            "Epoch 009 train_R2: -98.9937     train_acc 0.0000 val_R2 -99.1887 val_acc 0.0000\n"
          ]
        },
        {
          "output_type": "stream",
          "name": "stderr",
          "text": [
            "epoch: 100%|██████████| 10/10 [02:29<00:00, 14.99s/it]"
          ]
        },
        {
          "output_type": "stream",
          "name": "stdout",
          "text": [
            "\n",
            "Epoch 010 train_R2: -98.9923     train_acc 0.0000 val_R2 -99.0015 val_acc 0.0000\n"
          ]
        },
        {
          "output_type": "stream",
          "name": "stderr",
          "text": [
            "\n"
          ]
        },
        {
          "output_type": "error",
          "ename": "TypeError",
          "evalue": "Expected state_dict to be dict-like, got <class 'int'>.",
          "traceback": [
            "\u001b[0;31m---------------------------------------------------------------------------\u001b[0m",
            "\u001b[0;31mTypeError\u001b[0m                                 Traceback (most recent call last)",
            "\u001b[0;32m<ipython-input-199-5a866a55a6d6>\u001b[0m in \u001b[0;36m<cell line: 14>\u001b[0;34m()\u001b[0m\n\u001b[1;32m     12\u001b[0m \u001b[0mmd2\u001b[0m\u001b[0;34m.\u001b[0m\u001b[0mto\u001b[0m\u001b[0;34m(\u001b[0m\u001b[0mdevice\u001b[0m\u001b[0;34m)\u001b[0m\u001b[0;34m\u001b[0m\u001b[0;34m\u001b[0m\u001b[0m\n\u001b[1;32m     13\u001b[0m \u001b[0;34m\u001b[0m\u001b[0m\n\u001b[0;32m---> 14\u001b[0;31m \u001b[0mbest_model1\u001b[0m\u001b[0;34m,\u001b[0m \u001b[0mbest_model2\u001b[0m\u001b[0;34m,\u001b[0m \u001b[0mhistory\u001b[0m \u001b[0;34m=\u001b[0m \u001b[0mtrain\u001b[0m\u001b[0;34m(\u001b[0m\u001b[0mX_train\u001b[0m\u001b[0;34m,\u001b[0m \u001b[0my_train\u001b[0m\u001b[0;34m,\u001b[0m \u001b[0mX_test\u001b[0m\u001b[0;34m,\u001b[0m \u001b[0my_test\u001b[0m\u001b[0;34m,\u001b[0m \u001b[0mmodel1\u001b[0m\u001b[0;34m=\u001b[0m\u001b[0mmd1\u001b[0m\u001b[0;34m,\u001b[0m \u001b[0mmodel2\u001b[0m\u001b[0;34m=\u001b[0m\u001b[0mmd2\u001b[0m\u001b[0;34m,\u001b[0m \u001b[0mepochs\u001b[0m\u001b[0;34m=\u001b[0m\u001b[0mn_epochs\u001b[0m\u001b[0;34m,\u001b[0m \u001b[0mbatch_size\u001b[0m\u001b[0;34m=\u001b[0m\u001b[0mbt\u001b[0m\u001b[0;34m)\u001b[0m\u001b[0;34m\u001b[0m\u001b[0;34m\u001b[0m\u001b[0m\n\u001b[0m",
            "\u001b[0;32m<ipython-input-194-7b64886a9cbf>\u001b[0m in \u001b[0;36mtrain\u001b[0;34m(train_X, train_y, val_X, val_y, model1, model2, epochs, batch_size)\u001b[0m\n\u001b[1;32m     59\u001b[0m                                                           v_acc=val_acc))\n\u001b[1;32m     60\u001b[0m \u001b[0;34m\u001b[0m\u001b[0m\n\u001b[0;32m---> 61\u001b[0;31m     \u001b[0mmodel1\u001b[0m\u001b[0;34m.\u001b[0m\u001b[0mload_state_dict\u001b[0m\u001b[0;34m(\u001b[0m\u001b[0mbest_model1_wts\u001b[0m\u001b[0;34m)\u001b[0m\u001b[0;34m\u001b[0m\u001b[0;34m\u001b[0m\u001b[0m\n\u001b[0m\u001b[1;32m     62\u001b[0m     \u001b[0mmodel2\u001b[0m\u001b[0;34m.\u001b[0m\u001b[0mload_state_dict\u001b[0m\u001b[0;34m(\u001b[0m\u001b[0mbest_model2_wts\u001b[0m\u001b[0;34m)\u001b[0m\u001b[0;34m\u001b[0m\u001b[0;34m\u001b[0m\u001b[0m\n\u001b[1;32m     63\u001b[0m     \u001b[0;32mreturn\u001b[0m \u001b[0mmodel1\u001b[0m\u001b[0;34m,\u001b[0m \u001b[0mmodel2\u001b[0m\u001b[0;34m,\u001b[0m \u001b[0mhistory\u001b[0m\u001b[0;34m\u001b[0m\u001b[0;34m\u001b[0m\u001b[0m\n",
            "\u001b[0;32m/usr/local/lib/python3.10/dist-packages/torch/nn/modules/module.py\u001b[0m in \u001b[0;36mload_state_dict\u001b[0;34m(self, state_dict, strict, assign)\u001b[0m\n\u001b[1;32m   2102\u001b[0m         \"\"\"\n\u001b[1;32m   2103\u001b[0m         \u001b[0;32mif\u001b[0m \u001b[0;32mnot\u001b[0m \u001b[0misinstance\u001b[0m\u001b[0;34m(\u001b[0m\u001b[0mstate_dict\u001b[0m\u001b[0;34m,\u001b[0m \u001b[0mMapping\u001b[0m\u001b[0;34m)\u001b[0m\u001b[0;34m:\u001b[0m\u001b[0;34m\u001b[0m\u001b[0;34m\u001b[0m\u001b[0m\n\u001b[0;32m-> 2104\u001b[0;31m             \u001b[0;32mraise\u001b[0m \u001b[0mTypeError\u001b[0m\u001b[0;34m(\u001b[0m\u001b[0;34mf\"Expected state_dict to be dict-like, got {type(state_dict)}.\"\u001b[0m\u001b[0;34m)\u001b[0m\u001b[0;34m\u001b[0m\u001b[0;34m\u001b[0m\u001b[0m\n\u001b[0m\u001b[1;32m   2105\u001b[0m \u001b[0;34m\u001b[0m\u001b[0m\n\u001b[1;32m   2106\u001b[0m         \u001b[0mmissing_keys\u001b[0m\u001b[0;34m:\u001b[0m \u001b[0mList\u001b[0m\u001b[0;34m[\u001b[0m\u001b[0mstr\u001b[0m\u001b[0;34m]\u001b[0m \u001b[0;34m=\u001b[0m \u001b[0;34m[\u001b[0m\u001b[0;34m]\u001b[0m\u001b[0;34m\u001b[0m\u001b[0;34m\u001b[0m\u001b[0m\n",
            "\u001b[0;31mTypeError\u001b[0m: Expected state_dict to be dict-like, got <class 'int'>."
          ]
        }
      ]
    },
    {
      "cell_type": "code",
      "source": [],
      "metadata": {
        "id": "oIrnqpqRyqKp"
      },
      "id": "oIrnqpqRyqKp",
      "execution_count": null,
      "outputs": []
    }
  ],
  "metadata": {
    "kernelspec": {
      "display_name": "Python 3",
      "name": "python3"
    },
    "language_info": {
      "codemirror_mode": {
        "name": "ipython",
        "version": 3
      },
      "file_extension": ".py",
      "mimetype": "text/x-python",
      "name": "python",
      "nbconvert_exporter": "python",
      "pygments_lexer": "ipython3",
      "version": "3.9.7"
    },
    "colab": {
      "provenance": [],
      "toc_visible": true,
      "gpuType": "T4"
    },
    "accelerator": "GPU"
  },
  "nbformat": 4,
  "nbformat_minor": 5
}